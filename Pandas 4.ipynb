{
 "cells": [
  {
   "cell_type": "markdown",
   "metadata": {},
   "source": [
    "## Python Pandas: Summarization"
   ]
  },
  {
   "cell_type": "markdown",
   "metadata": {},
   "source": [
    "As always, let's begin by importing the pandas library under its pseudonym `pd`."
   ]
  },
  {
   "cell_type": "code",
   "execution_count": 22,
   "metadata": {},
   "outputs": [],
   "source": [
    "import pandas as pd"
   ]
  },
  {
   "cell_type": "markdown",
   "metadata": {},
   "source": [
    "We'll continue working with the Netflix data that we worked with last time. Run the following code block to import that data again and merge the two datasets, as we discussed last time."
   ]
  },
  {
   "cell_type": "code",
   "execution_count": 23,
   "metadata": {},
   "outputs": [
    {
     "data": {
      "text/html": [
       "<div>\n",
       "<style scoped>\n",
       "    .dataframe tbody tr th:only-of-type {\n",
       "        vertical-align: middle;\n",
       "    }\n",
       "\n",
       "    .dataframe tbody tr th {\n",
       "        vertical-align: top;\n",
       "    }\n",
       "\n",
       "    .dataframe thead th {\n",
       "        text-align: right;\n",
       "    }\n",
       "</style>\n",
       "<table border=\"1\" class=\"dataframe\">\n",
       "  <thead>\n",
       "    <tr style=\"text-align: right;\">\n",
       "      <th></th>\n",
       "      <th>show_id</th>\n",
       "      <th>type</th>\n",
       "      <th>title</th>\n",
       "      <th>director</th>\n",
       "      <th>cast</th>\n",
       "      <th>country</th>\n",
       "      <th>date_added</th>\n",
       "      <th>release_year</th>\n",
       "      <th>rating</th>\n",
       "      <th>duration</th>\n",
       "      <th>listed_in</th>\n",
       "      <th>description</th>\n",
       "      <th>Title</th>\n",
       "      <th>Available Globally?</th>\n",
       "      <th>Release Date</th>\n",
       "      <th>Hours Viewed</th>\n",
       "    </tr>\n",
       "  </thead>\n",
       "  <tbody>\n",
       "    <tr>\n",
       "      <th>0</th>\n",
       "      <td>s7</td>\n",
       "      <td>Movie</td>\n",
       "      <td>My Little Pony: A New Generation</td>\n",
       "      <td>Robert Cullen, José Luis Ucha</td>\n",
       "      <td>Vanessa Hudgens, Kimiko Glenn, James Marsden, ...</td>\n",
       "      <td>NaN</td>\n",
       "      <td>September 24, 2021</td>\n",
       "      <td>2021</td>\n",
       "      <td>PG</td>\n",
       "      <td>91 min</td>\n",
       "      <td>Children &amp; Family Movies</td>\n",
       "      <td>Equestria's divided. But a bright-eyed hero be...</td>\n",
       "      <td>My Little Pony: A New Generation</td>\n",
       "      <td>Yes</td>\n",
       "      <td>9/24/2021</td>\n",
       "      <td>15400000</td>\n",
       "    </tr>\n",
       "    <tr>\n",
       "      <th>1</th>\n",
       "      <td>s8</td>\n",
       "      <td>Movie</td>\n",
       "      <td>Sankofa</td>\n",
       "      <td>Haile Gerima</td>\n",
       "      <td>Kofi Ghanaba, Oyafunmike Ogunlano, Alexandra D...</td>\n",
       "      <td>United States, Ghana, Burkina Faso, United Kin...</td>\n",
       "      <td>September 24, 2021</td>\n",
       "      <td>1993</td>\n",
       "      <td>TV-MA</td>\n",
       "      <td>125 min</td>\n",
       "      <td>Dramas, Independent Movies, International Movies</td>\n",
       "      <td>On a photo shoot in Ghana, an American model s...</td>\n",
       "      <td>Sankofa</td>\n",
       "      <td>No</td>\n",
       "      <td>NaN</td>\n",
       "      <td>100000</td>\n",
       "    </tr>\n",
       "    <tr>\n",
       "      <th>2</th>\n",
       "      <td>s10</td>\n",
       "      <td>Movie</td>\n",
       "      <td>The Starling</td>\n",
       "      <td>Theodore Melfi</td>\n",
       "      <td>Melissa McCarthy, Chris O'Dowd, Kevin Kline, T...</td>\n",
       "      <td>United States</td>\n",
       "      <td>September 24, 2021</td>\n",
       "      <td>2021</td>\n",
       "      <td>PG-13</td>\n",
       "      <td>104 min</td>\n",
       "      <td>Comedies, Dramas</td>\n",
       "      <td>A woman adjusting to life after a loss contend...</td>\n",
       "      <td>The Starling</td>\n",
       "      <td>Yes</td>\n",
       "      <td>9/24/2021</td>\n",
       "      <td>8200000</td>\n",
       "    </tr>\n",
       "    <tr>\n",
       "      <th>3</th>\n",
       "      <td>s13</td>\n",
       "      <td>Movie</td>\n",
       "      <td>Je Suis Karl</td>\n",
       "      <td>Christian Schwochow</td>\n",
       "      <td>Luna Wedler, Jannis Niewöhner, Milan Peschel, ...</td>\n",
       "      <td>Germany, Czech Republic</td>\n",
       "      <td>September 23, 2021</td>\n",
       "      <td>2021</td>\n",
       "      <td>TV-MA</td>\n",
       "      <td>127 min</td>\n",
       "      <td>Dramas, International Movies</td>\n",
       "      <td>After most of her family is murdered in a terr...</td>\n",
       "      <td>Je Suis Karl</td>\n",
       "      <td>Yes</td>\n",
       "      <td>9/23/2021</td>\n",
       "      <td>300000</td>\n",
       "    </tr>\n",
       "    <tr>\n",
       "      <th>4</th>\n",
       "      <td>s14</td>\n",
       "      <td>Movie</td>\n",
       "      <td>Confessions of an Invisible Girl</td>\n",
       "      <td>Bruno Garotti</td>\n",
       "      <td>Klara Castanho, Lucca Picon, Júlia Gomes, Marc...</td>\n",
       "      <td>NaN</td>\n",
       "      <td>September 22, 2021</td>\n",
       "      <td>2021</td>\n",
       "      <td>TV-PG</td>\n",
       "      <td>91 min</td>\n",
       "      <td>Children &amp; Family Movies, Comedies</td>\n",
       "      <td>When the clever but socially-awkward Tetê join...</td>\n",
       "      <td>Confessions of an Invisible Girl</td>\n",
       "      <td>Yes</td>\n",
       "      <td>9/22/2021</td>\n",
       "      <td>5700000</td>\n",
       "    </tr>\n",
       "  </tbody>\n",
       "</table>\n",
       "</div>"
      ],
      "text/plain": [
       "  show_id   type                             title  \\\n",
       "0      s7  Movie  My Little Pony: A New Generation   \n",
       "1      s8  Movie                           Sankofa   \n",
       "2     s10  Movie                      The Starling   \n",
       "3     s13  Movie                      Je Suis Karl   \n",
       "4     s14  Movie  Confessions of an Invisible Girl   \n",
       "\n",
       "                        director  \\\n",
       "0  Robert Cullen, José Luis Ucha   \n",
       "1                   Haile Gerima   \n",
       "2                 Theodore Melfi   \n",
       "3            Christian Schwochow   \n",
       "4                  Bruno Garotti   \n",
       "\n",
       "                                                cast  \\\n",
       "0  Vanessa Hudgens, Kimiko Glenn, James Marsden, ...   \n",
       "1  Kofi Ghanaba, Oyafunmike Ogunlano, Alexandra D...   \n",
       "2  Melissa McCarthy, Chris O'Dowd, Kevin Kline, T...   \n",
       "3  Luna Wedler, Jannis Niewöhner, Milan Peschel, ...   \n",
       "4  Klara Castanho, Lucca Picon, Júlia Gomes, Marc...   \n",
       "\n",
       "                                             country          date_added  \\\n",
       "0                                                NaN  September 24, 2021   \n",
       "1  United States, Ghana, Burkina Faso, United Kin...  September 24, 2021   \n",
       "2                                      United States  September 24, 2021   \n",
       "3                            Germany, Czech Republic  September 23, 2021   \n",
       "4                                                NaN  September 22, 2021   \n",
       "\n",
       "   release_year rating duration  \\\n",
       "0          2021     PG   91 min   \n",
       "1          1993  TV-MA  125 min   \n",
       "2          2021  PG-13  104 min   \n",
       "3          2021  TV-MA  127 min   \n",
       "4          2021  TV-PG   91 min   \n",
       "\n",
       "                                          listed_in  \\\n",
       "0                          Children & Family Movies   \n",
       "1  Dramas, Independent Movies, International Movies   \n",
       "2                                  Comedies, Dramas   \n",
       "3                      Dramas, International Movies   \n",
       "4                Children & Family Movies, Comedies   \n",
       "\n",
       "                                         description  \\\n",
       "0  Equestria's divided. But a bright-eyed hero be...   \n",
       "1  On a photo shoot in Ghana, an American model s...   \n",
       "2  A woman adjusting to life after a loss contend...   \n",
       "3  After most of her family is murdered in a terr...   \n",
       "4  When the clever but socially-awkward Tetê join...   \n",
       "\n",
       "                              Title Available Globally? Release Date  \\\n",
       "0  My Little Pony: A New Generation                 Yes    9/24/2021   \n",
       "1                           Sankofa                  No          NaN   \n",
       "2                      The Starling                 Yes    9/24/2021   \n",
       "3                      Je Suis Karl                 Yes    9/23/2021   \n",
       "4  Confessions of an Invisible Girl                 Yes    9/22/2021   \n",
       "\n",
       "   Hours Viewed  \n",
       "0      15400000  \n",
       "1        100000  \n",
       "2       8200000  \n",
       "3        300000  \n",
       "4       5700000  "
      ]
     },
     "execution_count": 23,
     "metadata": {},
     "output_type": "execute_result"
    }
   ],
   "source": [
    "# read in the two CSVs\n",
    "netflix_titles = pd.read_csv('netflix_titles.csv')\n",
    "netflix_views = pd.read_csv('netflix_views.csv', encoding=\"latin-1\")\n",
    "\n",
    "# correct the foreign title issue from last week\n",
    "netflix_views['Title'] = netflix_views['Title'].apply(lambda x: x.split(\" // \")[0])\n",
    "\n",
    "# turn the 'Hours Viewed' into a number format\n",
    "netflix_views['Hours Viewed'] = netflix_views['Hours Viewed'].str.replace(\",\", \"\")\n",
    "netflix_views['Hours Viewed'] = pd.to_numeric(netflix_views['Hours Viewed'])\n",
    "\n",
    "# merge the data sets and see the first few rows\n",
    "netflix = pd.merge(netflix_titles, netflix_views, left_on = \"title\", right_on = \"Title\")\n",
    "netflix.iloc[:5]"
   ]
  },
  {
   "cell_type": "markdown",
   "metadata": {},
   "source": [
    "## **Data Summaries**\n",
    "\n",
    "Performing data summaries in pandas is essential for understanding the structure, trends, and key insights within a dataset. Let's begin with some simple functions to understand the size and scope of the data we're working with, without worrying about the information it actually contains."
   ]
  },
  {
   "cell_type": "markdown",
   "metadata": {},
   "source": [
    "### Getting info about your data\n",
    "\n",
    "`.info()` is commonly one of the very first commands you run after loading your data:"
   ]
  },
  {
   "cell_type": "code",
   "execution_count": 3,
   "metadata": {},
   "outputs": [
    {
     "name": "stdout",
     "output_type": "stream",
     "text": [
      "<class 'pandas.core.frame.DataFrame'>\n",
      "RangeIndex: 2895 entries, 0 to 2894\n",
      "Data columns (total 16 columns):\n",
      " #   Column               Non-Null Count  Dtype \n",
      "---  ------               --------------  ----- \n",
      " 0   show_id              2895 non-null   object\n",
      " 1   type                 2895 non-null   object\n",
      " 2   title                2895 non-null   object\n",
      " 3   director             2735 non-null   object\n",
      " 4   cast                 2728 non-null   object\n",
      " 5   country              2649 non-null   object\n",
      " 6   date_added           2895 non-null   object\n",
      " 7   release_year         2895 non-null   int64 \n",
      " 8   rating               2895 non-null   object\n",
      " 9   duration             2892 non-null   object\n",
      " 10  listed_in            2895 non-null   object\n",
      " 11  description          2895 non-null   object\n",
      " 12  Title                2895 non-null   object\n",
      " 13  Available Globally?  2895 non-null   object\n",
      " 14  Release Date         1170 non-null   object\n",
      " 15  Hours Viewed         2895 non-null   int64 \n",
      "dtypes: int64(2), object(14)\n",
      "memory usage: 362.0+ KB\n"
     ]
    }
   ],
   "source": [
    "netflix.info()"
   ]
  },
  {
   "cell_type": "markdown",
   "metadata": {},
   "source": [
    "The `.info()` method provides the essential details about your dataset, such as the number of rows and columns, the number of non-null values, what type of data is in each column, and how much memory your DataFrame is using.\n",
    "\n",
    "Notice in our Netflix dataset we have some obvious missing values in the `director`, `cast`, `country`, `duration`, and `Release Date` columns. There are a few ways you can handle these missing values, which we'll talk about later in the semester.\n",
    "\n",
    "Another fast and useful attribute is `.shape`, which outputs just a tuple of (rows, columns):"
   ]
  },
  {
   "cell_type": "code",
   "execution_count": 4,
   "metadata": {},
   "outputs": [
    {
     "data": {
      "text/plain": [
       "(2895, 16)"
      ]
     },
     "execution_count": 4,
     "metadata": {},
     "output_type": "execute_result"
    }
   ],
   "source": [
    "netflix.shape"
   ]
  },
  {
   "cell_type": "markdown",
   "metadata": {},
   "source": [
    "Note that `.shape` has no parentheses and is a simple tuple of format (rows, columns). So we have **2895 rows** and **16 columns** in our movies DataFrame.\n",
    "\n",
    "You'll be going to `.shape` a lot when cleaning and transforming data. For example, you might filter some rows based on some criteria and then want to know quickly how many rows were removed.\n",
    "\n",
    "Once we have this basic dataset information, we can start to think about the information the dataset contains.\n",
    "\n",
    "`df.describe()` provides a quick statistical summary of numerical columns in a DataFrame, including metrics like count, mean, standard deviation, min, max, and quartiles. This function is useful for gaining an overview of data distributions, detecting outliers, and identifying potential issues such as missing or skewed values. By using `df.describe(include=\"all\")`, you can also summarize non-numeric data, making it a versatile tool for exploratory data analysis."
   ]
  },
  {
   "cell_type": "code",
   "execution_count": 25,
   "metadata": {},
   "outputs": [
    {
     "data": {
      "text/html": [
       "<div>\n",
       "<style scoped>\n",
       "    .dataframe tbody tr th:only-of-type {\n",
       "        vertical-align: middle;\n",
       "    }\n",
       "\n",
       "    .dataframe tbody tr th {\n",
       "        vertical-align: top;\n",
       "    }\n",
       "\n",
       "    .dataframe thead th {\n",
       "        text-align: right;\n",
       "    }\n",
       "</style>\n",
       "<table border=\"1\" class=\"dataframe\">\n",
       "  <thead>\n",
       "    <tr style=\"text-align: right;\">\n",
       "      <th></th>\n",
       "      <th>release_year</th>\n",
       "      <th>Hours Viewed</th>\n",
       "    </tr>\n",
       "  </thead>\n",
       "  <tbody>\n",
       "    <tr>\n",
       "      <th>count</th>\n",
       "      <td>2895.000000</td>\n",
       "      <td>2.895000e+03</td>\n",
       "    </tr>\n",
       "    <tr>\n",
       "      <th>mean</th>\n",
       "      <td>2014.864594</td>\n",
       "      <td>2.165941e+06</td>\n",
       "    </tr>\n",
       "    <tr>\n",
       "      <th>std</th>\n",
       "      <td>7.852936</td>\n",
       "      <td>5.219811e+06</td>\n",
       "    </tr>\n",
       "    <tr>\n",
       "      <th>min</th>\n",
       "      <td>1945.000000</td>\n",
       "      <td>1.000000e+05</td>\n",
       "    </tr>\n",
       "    <tr>\n",
       "      <th>25%</th>\n",
       "      <td>2014.000000</td>\n",
       "      <td>2.000000e+05</td>\n",
       "    </tr>\n",
       "    <tr>\n",
       "      <th>50%</th>\n",
       "      <td>2018.000000</td>\n",
       "      <td>5.000000e+05</td>\n",
       "    </tr>\n",
       "    <tr>\n",
       "      <th>75%</th>\n",
       "      <td>2019.000000</td>\n",
       "      <td>1.900000e+06</td>\n",
       "    </tr>\n",
       "    <tr>\n",
       "      <th>max</th>\n",
       "      <td>2021.000000</td>\n",
       "      <td>8.790000e+07</td>\n",
       "    </tr>\n",
       "  </tbody>\n",
       "</table>\n",
       "</div>"
      ],
      "text/plain": [
       "       release_year  Hours Viewed\n",
       "count   2895.000000  2.895000e+03\n",
       "mean    2014.864594  2.165941e+06\n",
       "std        7.852936  5.219811e+06\n",
       "min     1945.000000  1.000000e+05\n",
       "25%     2014.000000  2.000000e+05\n",
       "50%     2018.000000  5.000000e+05\n",
       "75%     2019.000000  1.900000e+06\n",
       "max     2021.000000  8.790000e+07"
      ]
     },
     "execution_count": 25,
     "metadata": {},
     "output_type": "execute_result"
    }
   ],
   "source": [
    "netflix.describe()"
   ]
  },
  {
   "cell_type": "markdown",
   "metadata": {},
   "source": [
    "If you only need one specific piece of information from `df.describe()`, you can also extract that value on its own. For example, if you wanted to know the mean of the `Hours Viewed` column, you could type `netflix['Hours Viewed'].mean()`\n",
    "\n",
    "`value_counts()` is a powerful method for analyzing the frequency of unique values in a Series. It helps identify common and rare categories, detect data imbalances, and spot potential data entry errors. By default, it returns counts in descending order, but you can customize it with parameters like `normalize=True` for proportions or `dropna=False` to include missing values. This function is especially useful for summarizing categorical data and gaining insights into distributions within a dataset."
   ]
  },
  {
   "cell_type": "code",
   "execution_count": 27,
   "metadata": {},
   "outputs": [
    {
     "data": {
      "text/plain": [
       "rating\n",
       "TV-MA     1104\n",
       "TV-14      645\n",
       "R          345\n",
       "PG-13      232\n",
       "TV-PG      197\n",
       "PG         139\n",
       "TV-Y        74\n",
       "TV-Y7       72\n",
       "TV-G        61\n",
       "NR          11\n",
       "G            9\n",
       "NC-17        2\n",
       "74 min       1\n",
       "84 min       1\n",
       "66 min       1\n",
       "UR           1\n",
       "Name: count, dtype: int64"
      ]
     },
     "execution_count": 27,
     "metadata": {},
     "output_type": "execute_result"
    }
   ],
   "source": [
    "netflix['rating'].value_counts()"
   ]
  },
  {
   "cell_type": "markdown",
   "metadata": {},
   "source": [
    "### **Practice Questions:**\n",
    "\n",
    "1. Calculate the range of values in the `release_year` column."
   ]
  },
  {
   "cell_type": "code",
   "execution_count": null,
   "metadata": {},
   "outputs": [
    {
     "data": {
      "text/plain": [
       "np.float64(38.0)"
      ]
     },
     "execution_count": 29,
     "metadata": {},
     "output_type": "execute_result"
    }
   ],
   "source": [
    "# Answer here:\n",
    "netflix['release_year'].max() - netflix['release_year'].min()"
   ]
  },
  {
   "cell_type": "markdown",
   "metadata": {},
   "source": [
    "2. Which director(s) in this dataset has directed the 4th most films and/or TV shows?"
   ]
  },
  {
   "cell_type": "code",
   "execution_count": 32,
   "metadata": {},
   "outputs": [
    {
     "data": {
      "text/plain": [
       "director\n",
       "Rajiv Chilaka          9\n",
       "Cathy Garcia-Molina    9\n",
       "Name: count, dtype: int64"
      ]
     },
     "execution_count": 32,
     "metadata": {},
     "output_type": "execute_result"
    }
   ],
   "source": [
    "# Answer here:\n",
    "vc = netflix['director'].value_counts()\n",
    "vc[vc == 9]"
   ]
  },
  {
   "cell_type": "markdown",
   "metadata": {},
   "source": [
    "## **'Group By' Aggregation**"
   ]
  },
  {
   "cell_type": "markdown",
   "metadata": {},
   "source": [
    "## Main Idea\n",
    "\n",
    "Conceptually, the basic steps are as follows:\n",
    "\n",
    "* **split** the data into several _groups_\n",
    "    * e.g., split all Netflix offerings into the \"TV show\" and \"movie\" groups\n",
    "\n",
    "\n",
    "* **apply** some function independently to each of the groups\n",
    "    * e.g., average the hours viewed of all offerings in each group\n",
    "\n",
    "\n",
    "* and then **merge** the results for all groups together\n",
    "    * e.g., get back one Series with the average hours viewed indexed by type."
   ]
  },
  {
   "cell_type": "markdown",
   "metadata": {},
   "source": [
    "**Step 1: Split**"
   ]
  },
  {
   "cell_type": "code",
   "execution_count": 9,
   "metadata": {},
   "outputs": [
    {
     "name": "stdout",
     "output_type": "stream",
     "text": [
      "2\n"
     ]
    }
   ],
   "source": [
    "grps = netflix.groupby('type')\n",
    "print(len(grps))"
   ]
  },
  {
   "cell_type": "markdown",
   "metadata": {},
   "source": [
    "What does 'grps' look like?"
   ]
  },
  {
   "cell_type": "code",
   "execution_count": 10,
   "metadata": {},
   "outputs": [
    {
     "name": "stdout",
     "output_type": "stream",
     "text": [
      "<class 'pandas.core.groupby.generic.DataFrameGroupBy'>\n"
     ]
    }
   ],
   "source": [
    "print(type(grps))"
   ]
  },
  {
   "cell_type": "markdown",
   "metadata": {},
   "source": [
    "This is not a DataFrame, or any object we have seen so far. However, in many respects, it acts as a _dictionary_."
   ]
  },
  {
   "cell_type": "code",
   "execution_count": 11,
   "metadata": {},
   "outputs": [
    {
     "name": "stdout",
     "output_type": "stream",
     "text": [
      "group name = Movie\n",
      "  show_id   type                             title  \\\n",
      "0      s7  Movie  My Little Pony: A New Generation   \n",
      "1      s8  Movie                           Sankofa   \n",
      "2     s10  Movie                      The Starling   \n",
      "3     s13  Movie                      Je Suis Karl   \n",
      "4     s14  Movie  Confessions of an Invisible Girl   \n",
      "\n",
      "                        director  \\\n",
      "0  Robert Cullen, José Luis Ucha   \n",
      "1                   Haile Gerima   \n",
      "2                 Theodore Melfi   \n",
      "3            Christian Schwochow   \n",
      "4                  Bruno Garotti   \n",
      "\n",
      "                                                cast  \\\n",
      "0  Vanessa Hudgens, Kimiko Glenn, James Marsden, ...   \n",
      "1  Kofi Ghanaba, Oyafunmike Ogunlano, Alexandra D...   \n",
      "2  Melissa McCarthy, Chris O'Dowd, Kevin Kline, T...   \n",
      "3  Luna Wedler, Jannis Niewöhner, Milan Peschel, ...   \n",
      "4  Klara Castanho, Lucca Picon, Júlia Gomes, Marc...   \n",
      "\n",
      "                                             country          date_added  \\\n",
      "0                                                NaN  September 24, 2021   \n",
      "1  United States, Ghana, Burkina Faso, United Kin...  September 24, 2021   \n",
      "2                                      United States  September 24, 2021   \n",
      "3                            Germany, Czech Republic  September 23, 2021   \n",
      "4                                                NaN  September 22, 2021   \n",
      "\n",
      "   release_year rating duration  \\\n",
      "0          2021     PG   91 min   \n",
      "1          1993  TV-MA  125 min   \n",
      "2          2021  PG-13  104 min   \n",
      "3          2021  TV-MA  127 min   \n",
      "4          2021  TV-PG   91 min   \n",
      "\n",
      "                                          listed_in  \\\n",
      "0                          Children & Family Movies   \n",
      "1  Dramas, Independent Movies, International Movies   \n",
      "2                                  Comedies, Dramas   \n",
      "3                      Dramas, International Movies   \n",
      "4                Children & Family Movies, Comedies   \n",
      "\n",
      "                                         description  \\\n",
      "0  Equestria's divided. But a bright-eyed hero be...   \n",
      "1  On a photo shoot in Ghana, an American model s...   \n",
      "2  A woman adjusting to life after a loss contend...   \n",
      "3  After most of her family is murdered in a terr...   \n",
      "4  When the clever but socially-awkward Tetê join...   \n",
      "\n",
      "                              Title Available Globally? Release Date  \\\n",
      "0  My Little Pony: A New Generation                 Yes    9/24/2021   \n",
      "1                           Sankofa                  No          NaN   \n",
      "2                      The Starling                 Yes    9/24/2021   \n",
      "3                      Je Suis Karl                 Yes    9/23/2021   \n",
      "4  Confessions of an Invisible Girl                 Yes    9/22/2021   \n",
      "\n",
      "   Hours Viewed  \n",
      "0      15400000  \n",
      "1        100000  \n",
      "2       8200000  \n",
      "3        300000  \n",
      "4       5700000  \n",
      "group name = TV Show\n",
      "    show_id     type              title          director  \\\n",
      "47      s96  TV Show         The Circle               NaN   \n",
      "95     s213  TV Show          Rebellion               NaN   \n",
      "137    s288  TV Show     I Need Romance  Sakon Tiacharoen   \n",
      "138    s290  TV Show  The Crowned Clown               NaN   \n",
      "155    s314  TV Show  Autumn's Concerto               NaN   \n",
      "\n",
      "                                                  cast  \\\n",
      "47                                     Michelle Buteau   \n",
      "95   Charlie Murphy, Ruth Bradley, Sarah Greene, Br...   \n",
      "137  Khemanit Jamikorn, Thitipoom Techaapaikhun, Ka...   \n",
      "138  Yeo Jin-goo, Lee Se-young, Kim Sang-kyung, Jun...   \n",
      "155  Ady An, Vanness Wu, Ann Hsu, Wu Kang-ren, Xiao...   \n",
      "\n",
      "                           country         date_added  release_year rating  \\\n",
      "47   United States, United Kingdom  September 8, 2021          2021  TV-MA   \n",
      "95                         Ireland    August 27, 2021          2016  TV-MA   \n",
      "137                            NaN    August 10, 2021          2021  TV-14   \n",
      "138                    South Korea    August 10, 2021          2019  TV-14   \n",
      "155                         Taiwan     August 3, 2021          2009  TV-14   \n",
      "\n",
      "      duration                                          listed_in  \\\n",
      "47   3 Seasons                                         Reality TV   \n",
      "95   2 Seasons                  International TV Shows, TV Dramas   \n",
      "137   1 Season  International TV Shows, Romantic TV Shows, TV ...   \n",
      "138   1 Season  International TV Shows, Romantic TV Shows, TV ...   \n",
      "155   1 Season  International TV Shows, Romantic TV Shows, TV ...   \n",
      "\n",
      "                                           description              Title  \\\n",
      "47   Status and strategy collide in this social exp...         The Circle   \n",
      "95   As World War I rages, three women and their fa...          Rebellion   \n",
      "137  A workaholic who lost interest in romance reun...     I Need Romance   \n",
      "138  Standing in for an unhinged Joseon king, a loo...  The Crowned Clown   \n",
      "155  After losing all memories of his past, a wealt...  Autumn's Concerto   \n",
      "\n",
      "    Available Globally? Release Date  Hours Viewed  \n",
      "47                   No    6/30/2017       1600000  \n",
      "95                   No          NaN        400000  \n",
      "137                 Yes          NaN       2700000  \n",
      "138                 Yes          NaN       6700000  \n",
      "155                 Yes          NaN       1800000  \n"
     ]
    }
   ],
   "source": [
    "# iterate over the keys and values of this groupby object\n",
    "for key, group in grps:\n",
    "    print('group name =', key)\n",
    "    print(group[:5])"
   ]
  },
  {
   "cell_type": "markdown",
   "metadata": {},
   "source": [
    "_Summary_: We can think of the result of groupby() as a dictionary\n",
    "\n",
    "* whose keys are the groups on which we split the data, and\n",
    "* whose values are the DataFrame parts corresponding to those groups"
   ]
  },
  {
   "cell_type": "markdown",
   "metadata": {},
   "source": [
    "**Step 2: Apply**"
   ]
  },
  {
   "cell_type": "markdown",
   "metadata": {},
   "source": [
    "How do we find the average hours viewed for each 'type' grouping?"
   ]
  },
  {
   "cell_type": "code",
   "execution_count": 12,
   "metadata": {},
   "outputs": [
    {
     "name": "stdout",
     "output_type": "stream",
     "text": [
      "mean for Movie is 2103567.6061362824\n",
      "mean for TV Show is 4066304.347826087\n"
     ]
    }
   ],
   "source": [
    "# find the mean hours viewed in each group\n",
    "group_names = []\n",
    "group_means = []\n",
    "for name, group in grps:\n",
    "    mean = group['Hours Viewed'].mean()\n",
    "    print('mean for', name, 'is', mean)\n",
    "    \n",
    "    group_names.append(name)\n",
    "    group_means.append(mean)\n",
    "    "
   ]
  },
  {
   "cell_type": "markdown",
   "metadata": {},
   "source": [
    "**Step 3: Merge**"
   ]
  },
  {
   "cell_type": "markdown",
   "metadata": {},
   "source": [
    "How do we merge the means for all the groups into one Series?"
   ]
  },
  {
   "cell_type": "code",
   "execution_count": 13,
   "metadata": {},
   "outputs": [
    {
     "data": {
      "text/plain": [
       "Movie      2.103568e+06\n",
       "TV Show    4.066304e+06\n",
       "dtype: float64"
      ]
     },
     "execution_count": 13,
     "metadata": {},
     "output_type": "execute_result"
    }
   ],
   "source": [
    "# merge the means\n",
    "pd.Series(group_means, index=group_names)"
   ]
  },
  {
   "cell_type": "markdown",
   "metadata": {},
   "source": [
    "**Groupby:**\n",
    "\n",
    "All of these steps can be compressed into one."
   ]
  },
  {
   "cell_type": "code",
   "execution_count": 14,
   "metadata": {},
   "outputs": [
    {
     "data": {
      "text/plain": [
       "type\n",
       "Movie      2.103568e+06\n",
       "TV Show    4.066304e+06\n",
       "Name: Hours Viewed, dtype: float64"
      ]
     },
     "execution_count": 14,
     "metadata": {},
     "output_type": "execute_result"
    }
   ],
   "source": [
    "netflix.groupby('type')['Hours Viewed'].mean()"
   ]
  },
  {
   "cell_type": "markdown",
   "metadata": {},
   "source": [
    "Let us run through this groupby() in detail.\n",
    "\n",
    "> netflix.groupby('type')['Hours Viewed'].mean()\n",
    "\n",
    "* **netflix**: Obvious; run on the netflix DataFrame\n",
    "\n",
    "* **groupby(['type'])**: Group together all Netflix offerings with the same type.\n",
    "\n",
    "* **['Hours Viewed']**: Recall that for each of the groups, we get a DataFrame of offerings in that group. By specifying [column1, column2, ...], we _select_ those columns of the group DataFrames. Here, we select just the `Hours Viewed` column.\n",
    "\n",
    "* **mean()**: Apply the mean() function on the selected columns (here, 'Hours Viewed') of each group's DataFrame.\n",
    "\n",
    "For each of these three 'parts' of _groupby_ (not including the DataFrame), we can select multiple things at once. We are not limited to grouping by only one column, selecting only one column, or to performing only one function.\n",
    "\n",
    "Here's an example of _grouping by_ multiple columns:"
   ]
  },
  {
   "cell_type": "code",
   "execution_count": 15,
   "metadata": {},
   "outputs": [
    {
     "data": {
      "text/plain": [
       "type     director                            \n",
       "Movie    A. Raajdheep                             400000.0\n",
       "         A. Salaam                                100000.0\n",
       "         Aadish Keluskar                          200000.0\n",
       "         Aamir Khan                              3400000.0\n",
       "         Aaron Burns                              400000.0\n",
       "                                                   ...    \n",
       "TV Show  Sarawut Wichiensarn                      500000.0\n",
       "         Shen Leping                              600000.0\n",
       "         Stefano Lodovichi                        100000.0\n",
       "         Su I-Hsuan, Chuang Shiang-an, Liu Yi     100000.0\n",
       "         Tsutomu Mizushima                        100000.0\n",
       "Name: Hours Viewed, Length: 2106, dtype: float64"
      ]
     },
     "execution_count": 15,
     "metadata": {},
     "output_type": "execute_result"
    }
   ],
   "source": [
    "netflix.groupby(['type', 'director'])['Hours Viewed'].mean()"
   ]
  },
  {
   "cell_type": "markdown",
   "metadata": {},
   "source": [
    "The result of this groupby() is a DataFrame with a _hierarchical_ index with two levels. The first level of the index is type, and the second level is the director.\n",
    "\n",
    "Here's an example of _selecting_ multiple columns:"
   ]
  },
  {
   "cell_type": "code",
   "execution_count": 16,
   "metadata": {},
   "outputs": [
    {
     "data": {
      "text/html": [
       "<div>\n",
       "<style scoped>\n",
       "    .dataframe tbody tr th:only-of-type {\n",
       "        vertical-align: middle;\n",
       "    }\n",
       "\n",
       "    .dataframe tbody tr th {\n",
       "        vertical-align: top;\n",
       "    }\n",
       "\n",
       "    .dataframe thead th {\n",
       "        text-align: right;\n",
       "    }\n",
       "</style>\n",
       "<table border=\"1\" class=\"dataframe\">\n",
       "  <thead>\n",
       "    <tr style=\"text-align: right;\">\n",
       "      <th></th>\n",
       "      <th>Hours Viewed</th>\n",
       "      <th>release_year</th>\n",
       "    </tr>\n",
       "    <tr>\n",
       "      <th>type</th>\n",
       "      <th></th>\n",
       "      <th></th>\n",
       "    </tr>\n",
       "  </thead>\n",
       "  <tbody>\n",
       "    <tr>\n",
       "      <th>Movie</th>\n",
       "      <td>2.103568e+06</td>\n",
       "      <td>2014.827328</td>\n",
       "    </tr>\n",
       "    <tr>\n",
       "      <th>TV Show</th>\n",
       "      <td>4.066304e+06</td>\n",
       "      <td>2016.000000</td>\n",
       "    </tr>\n",
       "  </tbody>\n",
       "</table>\n",
       "</div>"
      ],
      "text/plain": [
       "         Hours Viewed  release_year\n",
       "type                               \n",
       "Movie    2.103568e+06   2014.827328\n",
       "TV Show  4.066304e+06   2016.000000"
      ]
     },
     "execution_count": 16,
     "metadata": {},
     "output_type": "execute_result"
    }
   ],
   "source": [
    "netflix.groupby('type')[['Hours Viewed', 'release_year']].mean()"
   ]
  },
  {
   "cell_type": "markdown",
   "metadata": {},
   "source": [
    "And here's an example of _performing_ multiple functions:"
   ]
  },
  {
   "cell_type": "code",
   "execution_count": 17,
   "metadata": {},
   "outputs": [
    {
     "data": {
      "text/html": [
       "<div>\n",
       "<style scoped>\n",
       "    .dataframe tbody tr th:only-of-type {\n",
       "        vertical-align: middle;\n",
       "    }\n",
       "\n",
       "    .dataframe tbody tr th {\n",
       "        vertical-align: top;\n",
       "    }\n",
       "\n",
       "    .dataframe thead th {\n",
       "        text-align: right;\n",
       "    }\n",
       "</style>\n",
       "<table border=\"1\" class=\"dataframe\">\n",
       "  <thead>\n",
       "    <tr style=\"text-align: right;\">\n",
       "      <th></th>\n",
       "      <th>mean</th>\n",
       "      <th>median</th>\n",
       "    </tr>\n",
       "    <tr>\n",
       "      <th>type</th>\n",
       "      <th></th>\n",
       "      <th></th>\n",
       "    </tr>\n",
       "  </thead>\n",
       "  <tbody>\n",
       "    <tr>\n",
       "      <th>Movie</th>\n",
       "      <td>2.103568e+06</td>\n",
       "      <td>500000.0</td>\n",
       "    </tr>\n",
       "    <tr>\n",
       "      <th>TV Show</th>\n",
       "      <td>4.066304e+06</td>\n",
       "      <td>650000.0</td>\n",
       "    </tr>\n",
       "  </tbody>\n",
       "</table>\n",
       "</div>"
      ],
      "text/plain": [
       "                 mean    median\n",
       "type                           \n",
       "Movie    2.103568e+06  500000.0\n",
       "TV Show  4.066304e+06  650000.0"
      ]
     },
     "execution_count": 17,
     "metadata": {},
     "output_type": "execute_result"
    }
   ],
   "source": [
    "netflix.groupby(['type'])['Hours Viewed'].agg(['mean', 'median'])"
   ]
  },
  {
   "cell_type": "markdown",
   "metadata": {},
   "source": [
    "#### One last option: using custom functions"
   ]
  },
  {
   "cell_type": "code",
   "execution_count": 18,
   "metadata": {},
   "outputs": [],
   "source": [
    "def range(s):\n",
    "    \"\"\"Given a series (called s), get the range\"\"\"\n",
    "    return s.max() - s.min()"
   ]
  },
  {
   "cell_type": "code",
   "execution_count": 19,
   "metadata": {},
   "outputs": [
    {
     "data": {
      "text/plain": [
       "type\n",
       "Movie      87800000\n",
       "TV Show    77700000\n",
       "Name: Hours Viewed, dtype: int64"
      ]
     },
     "execution_count": 19,
     "metadata": {},
     "output_type": "execute_result"
    }
   ],
   "source": [
    "netflix.groupby('type')['Hours Viewed'].agg(range)"
   ]
  },
  {
   "cell_type": "markdown",
   "metadata": {},
   "source": [
    "### **Practice Problems:**\n",
    "\n",
    "3. Name the three parts of a groupby function."
   ]
  },
  {
   "cell_type": "markdown",
   "metadata": {},
   "source": [
    "Answer here:\n",
    "Group by columns, select columns, apply functions"
   ]
  },
  {
   "cell_type": "markdown",
   "metadata": {},
   "source": [
    "4. Are movies or TV shows older on average?"
   ]
  },
  {
   "cell_type": "code",
   "execution_count": 33,
   "metadata": {},
   "outputs": [
    {
     "data": {
      "text/plain": [
       "type\n",
       "Movie      2014.827328\n",
       "TV Show    2016.000000\n",
       "Name: release_year, dtype: float64"
      ]
     },
     "execution_count": 33,
     "metadata": {},
     "output_type": "execute_result"
    }
   ],
   "source": [
    "# Answer here:\n",
    "netflix.groupby('type')['release_year'].mean()"
   ]
  },
  {
   "cell_type": "markdown",
   "metadata": {},
   "source": [
    "5. Which movie/TV show `rating` has the highest average `Hours Viewed`? Which one has the greatest variability in `Hours Viewed`?"
   ]
  },
  {
   "cell_type": "code",
   "execution_count": 35,
   "metadata": {},
   "outputs": [
    {
     "data": {
      "text/html": [
       "<div>\n",
       "<style scoped>\n",
       "    .dataframe tbody tr th:only-of-type {\n",
       "        vertical-align: middle;\n",
       "    }\n",
       "\n",
       "    .dataframe tbody tr th {\n",
       "        vertical-align: top;\n",
       "    }\n",
       "\n",
       "    .dataframe thead th {\n",
       "        text-align: right;\n",
       "    }\n",
       "</style>\n",
       "<table border=\"1\" class=\"dataframe\">\n",
       "  <thead>\n",
       "    <tr style=\"text-align: right;\">\n",
       "      <th></th>\n",
       "      <th>max</th>\n",
       "      <th>mean</th>\n",
       "      <th>std</th>\n",
       "    </tr>\n",
       "    <tr>\n",
       "      <th>rating</th>\n",
       "      <th></th>\n",
       "      <th></th>\n",
       "      <th></th>\n",
       "    </tr>\n",
       "  </thead>\n",
       "  <tbody>\n",
       "    <tr>\n",
       "      <th>PG</th>\n",
       "      <td>56400000</td>\n",
       "      <td>6.155396e+06</td>\n",
       "      <td>1.054480e+07</td>\n",
       "    </tr>\n",
       "    <tr>\n",
       "      <th>UR</th>\n",
       "      <td>5700000</td>\n",
       "      <td>5.700000e+06</td>\n",
       "      <td>NaN</td>\n",
       "    </tr>\n",
       "    <tr>\n",
       "      <th>PG-13</th>\n",
       "      <td>87900000</td>\n",
       "      <td>3.927155e+06</td>\n",
       "      <td>8.098666e+06</td>\n",
       "    </tr>\n",
       "    <tr>\n",
       "      <th>R</th>\n",
       "      <td>86100000</td>\n",
       "      <td>3.563478e+06</td>\n",
       "      <td>7.175904e+06</td>\n",
       "    </tr>\n",
       "    <tr>\n",
       "      <th>TV-Y7</th>\n",
       "      <td>18800000</td>\n",
       "      <td>2.841667e+06</td>\n",
       "      <td>4.674828e+06</td>\n",
       "    </tr>\n",
       "    <tr>\n",
       "      <th>TV-Y</th>\n",
       "      <td>22300000</td>\n",
       "      <td>2.022973e+06</td>\n",
       "      <td>3.376208e+06</td>\n",
       "    </tr>\n",
       "    <tr>\n",
       "      <th>G</th>\n",
       "      <td>4800000</td>\n",
       "      <td>2.000000e+06</td>\n",
       "      <td>1.880824e+06</td>\n",
       "    </tr>\n",
       "    <tr>\n",
       "      <th>TV-G</th>\n",
       "      <td>24300000</td>\n",
       "      <td>1.644262e+06</td>\n",
       "      <td>3.424740e+06</td>\n",
       "    </tr>\n",
       "    <tr>\n",
       "      <th>TV-PG</th>\n",
       "      <td>40100000</td>\n",
       "      <td>1.504569e+06</td>\n",
       "      <td>3.503312e+06</td>\n",
       "    </tr>\n",
       "    <tr>\n",
       "      <th>TV-MA</th>\n",
       "      <td>24800000</td>\n",
       "      <td>1.429076e+06</td>\n",
       "      <td>2.631870e+06</td>\n",
       "    </tr>\n",
       "    <tr>\n",
       "      <th>TV-14</th>\n",
       "      <td>77800000</td>\n",
       "      <td>1.417209e+06</td>\n",
       "      <td>4.442856e+06</td>\n",
       "    </tr>\n",
       "    <tr>\n",
       "      <th>NR</th>\n",
       "      <td>2700000</td>\n",
       "      <td>6.090909e+05</td>\n",
       "      <td>7.816067e+05</td>\n",
       "    </tr>\n",
       "    <tr>\n",
       "      <th>NC-17</th>\n",
       "      <td>400000</td>\n",
       "      <td>2.500000e+05</td>\n",
       "      <td>2.121320e+05</td>\n",
       "    </tr>\n",
       "    <tr>\n",
       "      <th>74 min</th>\n",
       "      <td>200000</td>\n",
       "      <td>2.000000e+05</td>\n",
       "      <td>NaN</td>\n",
       "    </tr>\n",
       "    <tr>\n",
       "      <th>84 min</th>\n",
       "      <td>200000</td>\n",
       "      <td>2.000000e+05</td>\n",
       "      <td>NaN</td>\n",
       "    </tr>\n",
       "    <tr>\n",
       "      <th>66 min</th>\n",
       "      <td>200000</td>\n",
       "      <td>2.000000e+05</td>\n",
       "      <td>NaN</td>\n",
       "    </tr>\n",
       "  </tbody>\n",
       "</table>\n",
       "</div>"
      ],
      "text/plain": [
       "             max          mean           std\n",
       "rating                                      \n",
       "PG      56400000  6.155396e+06  1.054480e+07\n",
       "UR       5700000  5.700000e+06           NaN\n",
       "PG-13   87900000  3.927155e+06  8.098666e+06\n",
       "R       86100000  3.563478e+06  7.175904e+06\n",
       "TV-Y7   18800000  2.841667e+06  4.674828e+06\n",
       "TV-Y    22300000  2.022973e+06  3.376208e+06\n",
       "G        4800000  2.000000e+06  1.880824e+06\n",
       "TV-G    24300000  1.644262e+06  3.424740e+06\n",
       "TV-PG   40100000  1.504569e+06  3.503312e+06\n",
       "TV-MA   24800000  1.429076e+06  2.631870e+06\n",
       "TV-14   77800000  1.417209e+06  4.442856e+06\n",
       "NR       2700000  6.090909e+05  7.816067e+05\n",
       "NC-17     400000  2.500000e+05  2.121320e+05\n",
       "74 min    200000  2.000000e+05           NaN\n",
       "84 min    200000  2.000000e+05           NaN\n",
       "66 min    200000  2.000000e+05           NaN"
      ]
     },
     "execution_count": 35,
     "metadata": {},
     "output_type": "execute_result"
    }
   ],
   "source": [
    "# Answer here:\n",
    "netflix.groupby('rating')['Hours Viewed'].agg(['max', 'mean', 'std']).sort_values(by = 'mean', ascending = False)"
   ]
  }
 ],
 "metadata": {
  "kernelspec": {
   "display_name": "Python 3",
   "language": "python",
   "name": "python3"
  },
  "language_info": {
   "codemirror_mode": {
    "name": "ipython",
    "version": 3
   },
   "file_extension": ".py",
   "mimetype": "text/x-python",
   "name": "python",
   "nbconvert_exporter": "python",
   "pygments_lexer": "ipython3",
   "version": "3.11.9"
  }
 },
 "nbformat": 4,
 "nbformat_minor": 2
}
