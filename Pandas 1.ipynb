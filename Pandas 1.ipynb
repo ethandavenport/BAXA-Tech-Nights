{
  "cells": [
    {
      "cell_type": "markdown",
      "metadata": {
        "id": "3pdKd2w234Xe"
      },
      "source": [
        "# Python Pandas Tutorial"
      ]
    },
    {
      "cell_type": "markdown",
      "metadata": {
        "id": "5MMB5hVO34Xg"
      },
      "source": [
        "The *pandas* package is the most important tool at the disposal of Data Scientists and Analysts working in Python today. The powerful machine learning and glamorous visualization tools may get all the attention, but pandas is the backbone of most data projects.\n",
        "\n",
        ">\\[*pandas*\\] is derived from the term \"**pan**el **da**ta\", an econometrics term for data sets that include observations over multiple time periods for the same individuals. — [Wikipedia](https://en.wikipedia.org/wiki/Pandas_%28software%29)\n",
        "\n",
        "If you're thinking about data science as a career, then it is imperative that one of the first things you do is learn pandas. We will go over the essential bits of information about pandas, including how to install it, its uses, and how it works with other common Python data analysis packages such as **matplotlib** and **sci-kit learn**."
      ]
    },
    {
      "cell_type": "markdown",
      "metadata": {
        "id": "Z5RmtC-_34Xh"
      },
      "source": [
        "<img src=\"assets/the-rise-in-popularity-of-pandas.png\" width=500px />"
      ]
    },
    {
      "cell_type": "markdown",
      "metadata": {
        "id": "hNxYui_t34Xh"
      },
      "source": [
        "## What's Pandas for?\n",
        "\n",
        "This tool is essentially your data’s home. Through pandas, you get acquainted with your data by cleaning, transforming, and analyzing it.\n",
        "\n",
        "For example, say you want to explore a dataset stored in a CSV on your computer. Pandas will extract the data from that CSV into a DataFrame — a table, basically — then let you do things like:\n",
        "\n",
        "- Calculate statistics and answer questions about the data, like\n",
        "\n",
        "\n",
        "    - What's the average, median, max, or min of each column?\n",
        "    - Does column A correlate with column B?\n",
        "    - What does the distribution of data in column C look like?\n",
        "\n",
        "\n",
        "- Clean the data by doing things like removing missing values and filtering rows or columns by some criteria\n",
        "\n",
        "\n",
        "- Visualize the data with help from Matplotlib. Plot bars, lines, histograms, bubbles, and more.\n",
        "\n",
        "\n",
        "- Store the cleaned, transformed data back into a CSV, other file or database\n",
        "\n",
        "\n",
        "Before you jump into the modeling or the complex visualizations you need to have a good understanding of the nature of your dataset and pandas is the best avenue through which to do that.\n",
        "\n"
      ]
    },
    {
      "cell_type": "markdown",
      "metadata": {
        "id": "9osncwSx34Xh"
      },
      "source": [
        "## How does pandas fit into the data science toolkit?\n",
        "\n",
        "Not only is the pandas library a central component of the data science toolkit but it is used in conjunction with other libraries in that collection.\n",
        "\n",
        "Pandas is built on top of the **NumPy** package, meaning a lot of the structure of NumPy is used or replicated in Pandas. Data in pandas is often used to feed statistical analysis in **SciPy**, plotting functions from **Matplotlib**, and machine learning algorithms in **Scikit-learn**.\n",
        "\n",
        "Jupyter Notebooks offer a good environment for using pandas to do data exploration and modeling, but pandas can also be used in text editors just as easily.\n",
        "\n",
        "Jupyter Notebooks give us the ability to execute code in a particular cell as opposed to running the entire file. This saves a lot of time when working with large datasets and complex transformations. Notebooks also provide an easy way to visualize pandas’ DataFrames and plots. As a matter of fact, this article was created entirely in a Jupyter Notebook.\n",
        "\n",
        "## When should you start using pandas?\n",
        "\n",
        "If you do not have any experience coding in Python, then you should stay away from learning pandas until you do. You don’t have to be at the level of the software engineer, but you should be adept at the basics, such as lists, tuples, dictionaries, functions, and iterations. Also, I’d also recommend familiarizing yourself with **NumPy** due to the similarities mentioned above.\n",
        "\n",
        "If you're looking for a good place to learn Python, [Python for Everybody](https://www.learndatasci.com/out/coursera-programming-everybody-getting-started-python/) on Coursera is great (and Free).\n",
        "\n",
        "Moreover, for those of you looking to do a [data science bootcamp](https://www.learndatasci.com/articles/thinkful-data-science-online-bootcamp-review/) or some other accelerated data science education program, it's highly recommended you start learning pandas on your own before you start the program.\n",
        "\n",
        "Even though accelerated programs teach you pandas, better skills beforehand means you'll be able to maximize time for learning and mastering the more complicated material."
      ]
    },
    {
      "cell_type": "markdown",
      "metadata": {
        "id": "m7kUij8D34Xi"
      },
      "source": [
        "## Pandas First Steps\n",
        "\n",
        "### Install and import\n",
        "Pandas is an easy package to install. Open up your terminal program (for Mac users) or command line (for PC users) and install it using either of the following commands:"
      ]
    },
    {
      "cell_type": "markdown",
      "metadata": {
        "id": "BBwA9lhN34Xj"
      },
      "source": [
        "`conda install pandas`\n",
        "\n",
        "OR\n",
        "\n",
        "`pip install pandas`"
      ]
    },
    {
      "cell_type": "markdown",
      "metadata": {
        "id": "QDd3GMWD34Xj"
      },
      "source": [
        "Alternatively, if you're currently viewing this in a Jupyter notebook you can run this cell:"
      ]
    },
    {
      "cell_type": "code",
      "execution_count": 59,
      "metadata": {
        "colab": {
          "base_uri": "https://localhost:8080/",
          "height": 216
        },
        "id": "bunSEE5I34Xk",
        "outputId": "77d6ea50-daa5-4127-a645-7d3e9b39c76d"
      },
      "outputs": [],
      "source": [
        "!pip install pandas\n",
        "from google.colab import files\n",
        "data_to_load = files.upload()"
      ]
    },
    {
      "cell_type": "markdown",
      "metadata": {
        "id": "589z2bhk34Xl"
      },
      "source": [
        "The `!` at the beginning runs cells as if they were in a terminal.\n",
        "\n",
        "To import pandas we usually import it with a shorter name since it's used so much:"
      ]
    },
    {
      "cell_type": "code",
      "execution_count": 60,
      "metadata": {
        "id": "m9ZmvMfi34Xl"
      },
      "outputs": [],
      "source": [
        "import pandas as pd"
      ]
    },
    {
      "cell_type": "markdown",
      "metadata": {
        "id": "NdvoXyyY34Xl"
      },
      "source": [
        "Now to the basic components of pandas."
      ]
    },
    {
      "cell_type": "markdown",
      "metadata": {
        "id": "p3WLBgP534Xl"
      },
      "source": [
        "## Core components of pandas: Series and DataFrames\n",
        "\n",
        "The primary two components of pandas are the `Series` and `DataFrame`.\n",
        "\n",
        "A `Series` is essentially a column, and a `DataFrame` is a multi-dimensional table made up of a collection of Series.\n",
        "\n",
        "DataFrames and Series are quite similar in that many operations that you can do with one you can do with the other, such as filling in null values and calculating the mean.\n",
        "\n",
        "You'll see how these components work when we start working with data below."
      ]
    },
    {
      "cell_type": "markdown",
      "metadata": {
        "id": "mHEOKaJ334Xl"
      },
      "source": [
        "### Creating DataFrames from scratch\n",
        "Creating DataFrames right in Python is good to know and quite useful when testing new methods and functions you find in the pandas docs.\n",
        "\n",
        "There are *many* ways to create a DataFrame from scratch, but a great option is to just use a simple `dict`.\n",
        "\n",
        "Let's say we have a fruit stand that sells apples and oranges. We want to have a column for each fruit and a row for each customer purchase. To organize this as a dictionary for pandas we could do something like:"
      ]
    },
    {
      "cell_type": "code",
      "execution_count": 61,
      "metadata": {
        "id": "khwyonJT34Xm"
      },
      "outputs": [],
      "source": [
        "data = {\n",
        "    'apples': [3, 2, 0, 1],\n",
        "    'oranges': [0, 3, 7, 2]\n",
        "}"
      ]
    },
    {
      "cell_type": "markdown",
      "metadata": {
        "id": "bhMsGuBR34Xm"
      },
      "source": [
        "And then pass it to the pandas DataFrame constructor:"
      ]
    },
    {
      "cell_type": "code",
      "execution_count": 62,
      "metadata": {
        "colab": {
          "base_uri": "https://localhost:8080/",
          "height": 174
        },
        "id": "NIzsxuIm34Xm",
        "outputId": "feb1c47e-0261-4881-db9d-df371db40408"
      },
      "outputs": [
        {
          "data": {
            "text/html": [
              "<div>\n",
              "<style scoped>\n",
              "    .dataframe tbody tr th:only-of-type {\n",
              "        vertical-align: middle;\n",
              "    }\n",
              "\n",
              "    .dataframe tbody tr th {\n",
              "        vertical-align: top;\n",
              "    }\n",
              "\n",
              "    .dataframe thead th {\n",
              "        text-align: right;\n",
              "    }\n",
              "</style>\n",
              "<table border=\"1\" class=\"dataframe\">\n",
              "  <thead>\n",
              "    <tr style=\"text-align: right;\">\n",
              "      <th></th>\n",
              "      <th>apples</th>\n",
              "      <th>oranges</th>\n",
              "    </tr>\n",
              "  </thead>\n",
              "  <tbody>\n",
              "    <tr>\n",
              "      <th>0</th>\n",
              "      <td>3</td>\n",
              "      <td>0</td>\n",
              "    </tr>\n",
              "    <tr>\n",
              "      <th>1</th>\n",
              "      <td>2</td>\n",
              "      <td>3</td>\n",
              "    </tr>\n",
              "    <tr>\n",
              "      <th>2</th>\n",
              "      <td>0</td>\n",
              "      <td>7</td>\n",
              "    </tr>\n",
              "    <tr>\n",
              "      <th>3</th>\n",
              "      <td>1</td>\n",
              "      <td>2</td>\n",
              "    </tr>\n",
              "  </tbody>\n",
              "</table>\n",
              "</div>"
            ],
            "text/plain": [
              "   apples  oranges\n",
              "0       3        0\n",
              "1       2        3\n",
              "2       0        7\n",
              "3       1        2"
            ]
          },
          "execution_count": 62,
          "metadata": {},
          "output_type": "execute_result"
        }
      ],
      "source": [
        "purchases = pd.DataFrame(data)\n",
        "\n",
        "purchases"
      ]
    },
    {
      "cell_type": "markdown",
      "metadata": {
        "id": "X3DEzVkd34Xm"
      },
      "source": [
        "**How did that work?**\n",
        "\n",
        "Each *(key, value)* item in `data` corresponds to a *column* in the resulting DataFrame.\n",
        "\n",
        "The **Index** of this DataFrame was given to us on creation as the numbers 0-3, but we could also create our own when we initialize the DataFrame.\n",
        "\n",
        "Let's have customer names as our index:"
      ]
    },
    {
      "cell_type": "code",
      "execution_count": 63,
      "metadata": {
        "colab": {
          "base_uri": "https://localhost:8080/",
          "height": 175
        },
        "id": "EwKWgjh_34Xm",
        "outputId": "a2571a81-78ba-48ed-ae9c-d3017078e7cf"
      },
      "outputs": [
        {
          "data": {
            "text/html": [
              "<div>\n",
              "<style scoped>\n",
              "    .dataframe tbody tr th:only-of-type {\n",
              "        vertical-align: middle;\n",
              "    }\n",
              "\n",
              "    .dataframe tbody tr th {\n",
              "        vertical-align: top;\n",
              "    }\n",
              "\n",
              "    .dataframe thead th {\n",
              "        text-align: right;\n",
              "    }\n",
              "</style>\n",
              "<table border=\"1\" class=\"dataframe\">\n",
              "  <thead>\n",
              "    <tr style=\"text-align: right;\">\n",
              "      <th></th>\n",
              "      <th>apples</th>\n",
              "      <th>oranges</th>\n",
              "    </tr>\n",
              "  </thead>\n",
              "  <tbody>\n",
              "    <tr>\n",
              "      <th>June</th>\n",
              "      <td>3</td>\n",
              "      <td>0</td>\n",
              "    </tr>\n",
              "    <tr>\n",
              "      <th>Robert</th>\n",
              "      <td>2</td>\n",
              "      <td>3</td>\n",
              "    </tr>\n",
              "    <tr>\n",
              "      <th>Lily</th>\n",
              "      <td>0</td>\n",
              "      <td>7</td>\n",
              "    </tr>\n",
              "    <tr>\n",
              "      <th>David</th>\n",
              "      <td>1</td>\n",
              "      <td>2</td>\n",
              "    </tr>\n",
              "  </tbody>\n",
              "</table>\n",
              "</div>"
            ],
            "text/plain": [
              "        apples  oranges\n",
              "June         3        0\n",
              "Robert       2        3\n",
              "Lily         0        7\n",
              "David        1        2"
            ]
          },
          "execution_count": 63,
          "metadata": {},
          "output_type": "execute_result"
        }
      ],
      "source": [
        "purchases = pd.DataFrame(data, index=['June', 'Robert', 'Lily', 'David'])\n",
        "\n",
        "purchases"
      ]
    },
    {
      "cell_type": "markdown",
      "metadata": {
        "id": "1yKC6rk134Xm"
      },
      "source": [
        "So now we could **loc**ate a customer's order by using their name:"
      ]
    },
    {
      "cell_type": "code",
      "execution_count": 64,
      "metadata": {
        "colab": {
          "base_uri": "https://localhost:8080/"
        },
        "id": "qGnJCnjw34Xm",
        "outputId": "3aa98b13-be30-4fc8-8c16-8fecb371bfa0",
        "scrolled": true
      },
      "outputs": [
        {
          "data": {
            "text/plain": [
              "apples     3\n",
              "oranges    0\n",
              "Name: June, dtype: int64"
            ]
          },
          "execution_count": 64,
          "metadata": {},
          "output_type": "execute_result"
        }
      ],
      "source": [
        "purchases.loc['June']"
      ]
    },
    {
      "cell_type": "markdown",
      "metadata": {
        "id": "KBSGLoMx34Xn"
      },
      "source": [
        "When using loc, you must use double brackets if you want to display the number of apples and oranges purchased by multiple people:"
      ]
    },
    {
      "cell_type": "code",
      "execution_count": 65,
      "metadata": {
        "colab": {
          "base_uri": "https://localhost:8080/",
          "height": 112
        },
        "id": "eq1X4Z8C34Xn",
        "outputId": "13b59875-eaf2-49f9-874e-88a79ff1eeb9"
      },
      "outputs": [
        {
          "data": {
            "text/html": [
              "<div>\n",
              "<style scoped>\n",
              "    .dataframe tbody tr th:only-of-type {\n",
              "        vertical-align: middle;\n",
              "    }\n",
              "\n",
              "    .dataframe tbody tr th {\n",
              "        vertical-align: top;\n",
              "    }\n",
              "\n",
              "    .dataframe thead th {\n",
              "        text-align: right;\n",
              "    }\n",
              "</style>\n",
              "<table border=\"1\" class=\"dataframe\">\n",
              "  <thead>\n",
              "    <tr style=\"text-align: right;\">\n",
              "      <th></th>\n",
              "      <th>apples</th>\n",
              "      <th>oranges</th>\n",
              "    </tr>\n",
              "  </thead>\n",
              "  <tbody>\n",
              "    <tr>\n",
              "      <th>June</th>\n",
              "      <td>3</td>\n",
              "      <td>0</td>\n",
              "    </tr>\n",
              "    <tr>\n",
              "      <th>Robert</th>\n",
              "      <td>2</td>\n",
              "      <td>3</td>\n",
              "    </tr>\n",
              "  </tbody>\n",
              "</table>\n",
              "</div>"
            ],
            "text/plain": [
              "        apples  oranges\n",
              "June         3        0\n",
              "Robert       2        3"
            ]
          },
          "execution_count": 65,
          "metadata": {},
          "output_type": "execute_result"
        }
      ],
      "source": [
        "purchases.loc[['June', 'Robert']]"
      ]
    },
    {
      "cell_type": "markdown",
      "metadata": {
        "id": "4vpKhUws34Xn"
      },
      "source": [
        "There's more on locating and extracting data from the DataFrame later, but now you should be able to create a DataFrame with any random data to learn on.\n",
        "\n",
        "Let's move on to some quick methods for creating DataFrames from various other sources."
      ]
    },
    {
      "cell_type": "markdown",
      "metadata": {
        "id": "WF8DMFDu34Xn"
      },
      "source": [
        "## How to read in data\n",
        "\n",
        "It’s quite simple to load data from various file formats into a DataFrame. In the following examples we'll keep using our apples and oranges data, but this time it's coming from various files."
      ]
    },
    {
      "cell_type": "markdown",
      "metadata": {
        "id": "Hwg_j_em34Xn"
      },
      "source": [
        "### Reading data from CSVs\n",
        "\n",
        "With CSV files all you need is a single line to load in the data:"
      ]
    },
    {
      "cell_type": "code",
      "execution_count": 66,
      "metadata": {
        "colab": {
          "base_uri": "https://localhost:8080/",
          "height": 175
        },
        "id": "gVELpmgQ34Xn",
        "outputId": "0dfabd02-0711-4be5-8ff3-71beb6cbca60"
      },
      "outputs": [
        {
          "data": {
            "text/html": [
              "<div>\n",
              "<style scoped>\n",
              "    .dataframe tbody tr th:only-of-type {\n",
              "        vertical-align: middle;\n",
              "    }\n",
              "\n",
              "    .dataframe tbody tr th {\n",
              "        vertical-align: top;\n",
              "    }\n",
              "\n",
              "    .dataframe thead th {\n",
              "        text-align: right;\n",
              "    }\n",
              "</style>\n",
              "<table border=\"1\" class=\"dataframe\">\n",
              "  <thead>\n",
              "    <tr style=\"text-align: right;\">\n",
              "      <th></th>\n",
              "      <th>Rank</th>\n",
              "      <th>Title</th>\n",
              "      <th>Genre</th>\n",
              "      <th>Description</th>\n",
              "      <th>Director</th>\n",
              "      <th>Actors</th>\n",
              "      <th>Year</th>\n",
              "      <th>Runtime (Minutes)</th>\n",
              "      <th>Rating</th>\n",
              "      <th>Votes</th>\n",
              "      <th>Revenue (Millions)</th>\n",
              "      <th>Metascore</th>\n",
              "    </tr>\n",
              "  </thead>\n",
              "  <tbody>\n",
              "    <tr>\n",
              "      <th>0</th>\n",
              "      <td>1</td>\n",
              "      <td>Guardians of the Galaxy</td>\n",
              "      <td>Action,Adventure,Sci-Fi</td>\n",
              "      <td>A group of intergalactic criminals are forced ...</td>\n",
              "      <td>James Gunn</td>\n",
              "      <td>Chris Pratt, Vin Diesel, Bradley Cooper, Zoe S...</td>\n",
              "      <td>2014</td>\n",
              "      <td>121</td>\n",
              "      <td>8.1</td>\n",
              "      <td>757074</td>\n",
              "      <td>333.13</td>\n",
              "      <td>76.0</td>\n",
              "    </tr>\n",
              "    <tr>\n",
              "      <th>1</th>\n",
              "      <td>2</td>\n",
              "      <td>Prometheus</td>\n",
              "      <td>Adventure,Mystery,Sci-Fi</td>\n",
              "      <td>Following clues to the origin of mankind, a te...</td>\n",
              "      <td>Ridley Scott</td>\n",
              "      <td>Noomi Rapace, Logan Marshall-Green, Michael Fa...</td>\n",
              "      <td>2012</td>\n",
              "      <td>124</td>\n",
              "      <td>7.0</td>\n",
              "      <td>485820</td>\n",
              "      <td>126.46</td>\n",
              "      <td>65.0</td>\n",
              "    </tr>\n",
              "    <tr>\n",
              "      <th>2</th>\n",
              "      <td>3</td>\n",
              "      <td>Split</td>\n",
              "      <td>Horror,Thriller</td>\n",
              "      <td>Three girls are kidnapped by a man with a diag...</td>\n",
              "      <td>M. Night Shyamalan</td>\n",
              "      <td>James McAvoy, Anya Taylor-Joy, Haley Lu Richar...</td>\n",
              "      <td>2016</td>\n",
              "      <td>117</td>\n",
              "      <td>7.3</td>\n",
              "      <td>157606</td>\n",
              "      <td>138.12</td>\n",
              "      <td>62.0</td>\n",
              "    </tr>\n",
              "    <tr>\n",
              "      <th>3</th>\n",
              "      <td>4</td>\n",
              "      <td>Sing</td>\n",
              "      <td>Animation,Comedy,Family</td>\n",
              "      <td>In a city of humanoid animals, a hustling thea...</td>\n",
              "      <td>Christophe Lourdelet</td>\n",
              "      <td>Matthew McConaughey,Reese Witherspoon, Seth Ma...</td>\n",
              "      <td>2016</td>\n",
              "      <td>108</td>\n",
              "      <td>7.2</td>\n",
              "      <td>60545</td>\n",
              "      <td>270.32</td>\n",
              "      <td>59.0</td>\n",
              "    </tr>\n",
              "    <tr>\n",
              "      <th>4</th>\n",
              "      <td>5</td>\n",
              "      <td>Suicide Squad</td>\n",
              "      <td>Action,Adventure,Fantasy</td>\n",
              "      <td>A secret government agency recruits some of th...</td>\n",
              "      <td>David Ayer</td>\n",
              "      <td>Will Smith, Jared Leto, Margot Robbie, Viola D...</td>\n",
              "      <td>2016</td>\n",
              "      <td>123</td>\n",
              "      <td>6.2</td>\n",
              "      <td>393727</td>\n",
              "      <td>325.02</td>\n",
              "      <td>40.0</td>\n",
              "    </tr>\n",
              "    <tr>\n",
              "      <th>...</th>\n",
              "      <td>...</td>\n",
              "      <td>...</td>\n",
              "      <td>...</td>\n",
              "      <td>...</td>\n",
              "      <td>...</td>\n",
              "      <td>...</td>\n",
              "      <td>...</td>\n",
              "      <td>...</td>\n",
              "      <td>...</td>\n",
              "      <td>...</td>\n",
              "      <td>...</td>\n",
              "      <td>...</td>\n",
              "    </tr>\n",
              "    <tr>\n",
              "      <th>995</th>\n",
              "      <td>996</td>\n",
              "      <td>Secret in Their Eyes</td>\n",
              "      <td>Crime,Drama,Mystery</td>\n",
              "      <td>A tight-knit team of rising investigators, alo...</td>\n",
              "      <td>Billy Ray</td>\n",
              "      <td>Chiwetel Ejiofor, Nicole Kidman, Julia Roberts...</td>\n",
              "      <td>2015</td>\n",
              "      <td>111</td>\n",
              "      <td>6.2</td>\n",
              "      <td>27585</td>\n",
              "      <td>NaN</td>\n",
              "      <td>45.0</td>\n",
              "    </tr>\n",
              "    <tr>\n",
              "      <th>996</th>\n",
              "      <td>997</td>\n",
              "      <td>Hostel: Part II</td>\n",
              "      <td>Horror</td>\n",
              "      <td>Three American college students studying abroa...</td>\n",
              "      <td>Eli Roth</td>\n",
              "      <td>Lauren German, Heather Matarazzo, Bijou Philli...</td>\n",
              "      <td>2007</td>\n",
              "      <td>94</td>\n",
              "      <td>5.5</td>\n",
              "      <td>73152</td>\n",
              "      <td>17.54</td>\n",
              "      <td>46.0</td>\n",
              "    </tr>\n",
              "    <tr>\n",
              "      <th>997</th>\n",
              "      <td>998</td>\n",
              "      <td>Step Up 2: The Streets</td>\n",
              "      <td>Drama,Music,Romance</td>\n",
              "      <td>Romantic sparks occur between two dance studen...</td>\n",
              "      <td>Jon M. Chu</td>\n",
              "      <td>Robert Hoffman, Briana Evigan, Cassie Ventura,...</td>\n",
              "      <td>2008</td>\n",
              "      <td>98</td>\n",
              "      <td>6.2</td>\n",
              "      <td>70699</td>\n",
              "      <td>58.01</td>\n",
              "      <td>50.0</td>\n",
              "    </tr>\n",
              "    <tr>\n",
              "      <th>998</th>\n",
              "      <td>999</td>\n",
              "      <td>Search Party</td>\n",
              "      <td>Adventure,Comedy</td>\n",
              "      <td>A pair of friends embark on a mission to reuni...</td>\n",
              "      <td>Scot Armstrong</td>\n",
              "      <td>Adam Pally, T.J. Miller, Thomas Middleditch,Sh...</td>\n",
              "      <td>2014</td>\n",
              "      <td>93</td>\n",
              "      <td>5.6</td>\n",
              "      <td>4881</td>\n",
              "      <td>NaN</td>\n",
              "      <td>22.0</td>\n",
              "    </tr>\n",
              "    <tr>\n",
              "      <th>999</th>\n",
              "      <td>1000</td>\n",
              "      <td>Nine Lives</td>\n",
              "      <td>Comedy,Family,Fantasy</td>\n",
              "      <td>A stuffy businessman finds himself trapped ins...</td>\n",
              "      <td>Barry Sonnenfeld</td>\n",
              "      <td>Kevin Spacey, Jennifer Garner, Robbie Amell,Ch...</td>\n",
              "      <td>2016</td>\n",
              "      <td>87</td>\n",
              "      <td>5.3</td>\n",
              "      <td>12435</td>\n",
              "      <td>19.64</td>\n",
              "      <td>11.0</td>\n",
              "    </tr>\n",
              "  </tbody>\n",
              "</table>\n",
              "<p>1000 rows × 12 columns</p>\n",
              "</div>"
            ],
            "text/plain": [
              "     Rank                    Title                     Genre  \\\n",
              "0       1  Guardians of the Galaxy   Action,Adventure,Sci-Fi   \n",
              "1       2               Prometheus  Adventure,Mystery,Sci-Fi   \n",
              "2       3                    Split           Horror,Thriller   \n",
              "3       4                     Sing   Animation,Comedy,Family   \n",
              "4       5            Suicide Squad  Action,Adventure,Fantasy   \n",
              "..    ...                      ...                       ...   \n",
              "995   996     Secret in Their Eyes       Crime,Drama,Mystery   \n",
              "996   997          Hostel: Part II                    Horror   \n",
              "997   998   Step Up 2: The Streets       Drama,Music,Romance   \n",
              "998   999             Search Party          Adventure,Comedy   \n",
              "999  1000               Nine Lives     Comedy,Family,Fantasy   \n",
              "\n",
              "                                           Description              Director  \\\n",
              "0    A group of intergalactic criminals are forced ...            James Gunn   \n",
              "1    Following clues to the origin of mankind, a te...          Ridley Scott   \n",
              "2    Three girls are kidnapped by a man with a diag...    M. Night Shyamalan   \n",
              "3    In a city of humanoid animals, a hustling thea...  Christophe Lourdelet   \n",
              "4    A secret government agency recruits some of th...            David Ayer   \n",
              "..                                                 ...                   ...   \n",
              "995  A tight-knit team of rising investigators, alo...             Billy Ray   \n",
              "996  Three American college students studying abroa...              Eli Roth   \n",
              "997  Romantic sparks occur between two dance studen...            Jon M. Chu   \n",
              "998  A pair of friends embark on a mission to reuni...        Scot Armstrong   \n",
              "999  A stuffy businessman finds himself trapped ins...      Barry Sonnenfeld   \n",
              "\n",
              "                                                Actors  Year  \\\n",
              "0    Chris Pratt, Vin Diesel, Bradley Cooper, Zoe S...  2014   \n",
              "1    Noomi Rapace, Logan Marshall-Green, Michael Fa...  2012   \n",
              "2    James McAvoy, Anya Taylor-Joy, Haley Lu Richar...  2016   \n",
              "3    Matthew McConaughey,Reese Witherspoon, Seth Ma...  2016   \n",
              "4    Will Smith, Jared Leto, Margot Robbie, Viola D...  2016   \n",
              "..                                                 ...   ...   \n",
              "995  Chiwetel Ejiofor, Nicole Kidman, Julia Roberts...  2015   \n",
              "996  Lauren German, Heather Matarazzo, Bijou Philli...  2007   \n",
              "997  Robert Hoffman, Briana Evigan, Cassie Ventura,...  2008   \n",
              "998  Adam Pally, T.J. Miller, Thomas Middleditch,Sh...  2014   \n",
              "999  Kevin Spacey, Jennifer Garner, Robbie Amell,Ch...  2016   \n",
              "\n",
              "     Runtime (Minutes)  Rating   Votes  Revenue (Millions)  Metascore  \n",
              "0                  121     8.1  757074              333.13       76.0  \n",
              "1                  124     7.0  485820              126.46       65.0  \n",
              "2                  117     7.3  157606              138.12       62.0  \n",
              "3                  108     7.2   60545              270.32       59.0  \n",
              "4                  123     6.2  393727              325.02       40.0  \n",
              "..                 ...     ...     ...                 ...        ...  \n",
              "995                111     6.2   27585                 NaN       45.0  \n",
              "996                 94     5.5   73152               17.54       46.0  \n",
              "997                 98     6.2   70699               58.01       50.0  \n",
              "998                 93     5.6    4881                 NaN       22.0  \n",
              "999                 87     5.3   12435               19.64       11.0  \n",
              "\n",
              "[1000 rows x 12 columns]"
            ]
          },
          "execution_count": 66,
          "metadata": {},
          "output_type": "execute_result"
        }
      ],
      "source": [
        "df = pd.read_csv(\"IMDB-Movie-Data.csv\")\n",
        "\n",
        "df"
      ]
    },
    {
      "cell_type": "markdown",
      "metadata": {
        "id": "nyx5bqNp34Xn"
      },
      "source": [
        "CSVs don't have indexes like our DataFrames, so all we need to do is just designate the `index_col` when reading:"
      ]
    },
    {
      "cell_type": "code",
      "execution_count": 67,
      "metadata": {
        "id": "3wFLk3z134Xn",
        "outputId": "fcee1d8c-1106-4317-d176-b7a29104992b"
      },
      "outputs": [
        {
          "data": {
            "text/html": [
              "<div>\n",
              "<style scoped>\n",
              "    .dataframe tbody tr th:only-of-type {\n",
              "        vertical-align: middle;\n",
              "    }\n",
              "\n",
              "    .dataframe tbody tr th {\n",
              "        vertical-align: top;\n",
              "    }\n",
              "\n",
              "    .dataframe thead th {\n",
              "        text-align: right;\n",
              "    }\n",
              "</style>\n",
              "<table border=\"1\" class=\"dataframe\">\n",
              "  <thead>\n",
              "    <tr style=\"text-align: right;\">\n",
              "      <th></th>\n",
              "      <th>Title</th>\n",
              "      <th>Genre</th>\n",
              "      <th>Description</th>\n",
              "      <th>Director</th>\n",
              "      <th>Actors</th>\n",
              "      <th>Year</th>\n",
              "      <th>Runtime (Minutes)</th>\n",
              "      <th>Rating</th>\n",
              "      <th>Votes</th>\n",
              "      <th>Revenue (Millions)</th>\n",
              "      <th>Metascore</th>\n",
              "    </tr>\n",
              "    <tr>\n",
              "      <th>Rank</th>\n",
              "      <th></th>\n",
              "      <th></th>\n",
              "      <th></th>\n",
              "      <th></th>\n",
              "      <th></th>\n",
              "      <th></th>\n",
              "      <th></th>\n",
              "      <th></th>\n",
              "      <th></th>\n",
              "      <th></th>\n",
              "      <th></th>\n",
              "    </tr>\n",
              "  </thead>\n",
              "  <tbody>\n",
              "    <tr>\n",
              "      <th>1</th>\n",
              "      <td>Guardians of the Galaxy</td>\n",
              "      <td>Action,Adventure,Sci-Fi</td>\n",
              "      <td>A group of intergalactic criminals are forced ...</td>\n",
              "      <td>James Gunn</td>\n",
              "      <td>Chris Pratt, Vin Diesel, Bradley Cooper, Zoe S...</td>\n",
              "      <td>2014</td>\n",
              "      <td>121</td>\n",
              "      <td>8.1</td>\n",
              "      <td>757074</td>\n",
              "      <td>333.13</td>\n",
              "      <td>76.0</td>\n",
              "    </tr>\n",
              "    <tr>\n",
              "      <th>2</th>\n",
              "      <td>Prometheus</td>\n",
              "      <td>Adventure,Mystery,Sci-Fi</td>\n",
              "      <td>Following clues to the origin of mankind, a te...</td>\n",
              "      <td>Ridley Scott</td>\n",
              "      <td>Noomi Rapace, Logan Marshall-Green, Michael Fa...</td>\n",
              "      <td>2012</td>\n",
              "      <td>124</td>\n",
              "      <td>7.0</td>\n",
              "      <td>485820</td>\n",
              "      <td>126.46</td>\n",
              "      <td>65.0</td>\n",
              "    </tr>\n",
              "    <tr>\n",
              "      <th>3</th>\n",
              "      <td>Split</td>\n",
              "      <td>Horror,Thriller</td>\n",
              "      <td>Three girls are kidnapped by a man with a diag...</td>\n",
              "      <td>M. Night Shyamalan</td>\n",
              "      <td>James McAvoy, Anya Taylor-Joy, Haley Lu Richar...</td>\n",
              "      <td>2016</td>\n",
              "      <td>117</td>\n",
              "      <td>7.3</td>\n",
              "      <td>157606</td>\n",
              "      <td>138.12</td>\n",
              "      <td>62.0</td>\n",
              "    </tr>\n",
              "    <tr>\n",
              "      <th>4</th>\n",
              "      <td>Sing</td>\n",
              "      <td>Animation,Comedy,Family</td>\n",
              "      <td>In a city of humanoid animals, a hustling thea...</td>\n",
              "      <td>Christophe Lourdelet</td>\n",
              "      <td>Matthew McConaughey,Reese Witherspoon, Seth Ma...</td>\n",
              "      <td>2016</td>\n",
              "      <td>108</td>\n",
              "      <td>7.2</td>\n",
              "      <td>60545</td>\n",
              "      <td>270.32</td>\n",
              "      <td>59.0</td>\n",
              "    </tr>\n",
              "    <tr>\n",
              "      <th>5</th>\n",
              "      <td>Suicide Squad</td>\n",
              "      <td>Action,Adventure,Fantasy</td>\n",
              "      <td>A secret government agency recruits some of th...</td>\n",
              "      <td>David Ayer</td>\n",
              "      <td>Will Smith, Jared Leto, Margot Robbie, Viola D...</td>\n",
              "      <td>2016</td>\n",
              "      <td>123</td>\n",
              "      <td>6.2</td>\n",
              "      <td>393727</td>\n",
              "      <td>325.02</td>\n",
              "      <td>40.0</td>\n",
              "    </tr>\n",
              "    <tr>\n",
              "      <th>...</th>\n",
              "      <td>...</td>\n",
              "      <td>...</td>\n",
              "      <td>...</td>\n",
              "      <td>...</td>\n",
              "      <td>...</td>\n",
              "      <td>...</td>\n",
              "      <td>...</td>\n",
              "      <td>...</td>\n",
              "      <td>...</td>\n",
              "      <td>...</td>\n",
              "      <td>...</td>\n",
              "    </tr>\n",
              "    <tr>\n",
              "      <th>996</th>\n",
              "      <td>Secret in Their Eyes</td>\n",
              "      <td>Crime,Drama,Mystery</td>\n",
              "      <td>A tight-knit team of rising investigators, alo...</td>\n",
              "      <td>Billy Ray</td>\n",
              "      <td>Chiwetel Ejiofor, Nicole Kidman, Julia Roberts...</td>\n",
              "      <td>2015</td>\n",
              "      <td>111</td>\n",
              "      <td>6.2</td>\n",
              "      <td>27585</td>\n",
              "      <td>NaN</td>\n",
              "      <td>45.0</td>\n",
              "    </tr>\n",
              "    <tr>\n",
              "      <th>997</th>\n",
              "      <td>Hostel: Part II</td>\n",
              "      <td>Horror</td>\n",
              "      <td>Three American college students studying abroa...</td>\n",
              "      <td>Eli Roth</td>\n",
              "      <td>Lauren German, Heather Matarazzo, Bijou Philli...</td>\n",
              "      <td>2007</td>\n",
              "      <td>94</td>\n",
              "      <td>5.5</td>\n",
              "      <td>73152</td>\n",
              "      <td>17.54</td>\n",
              "      <td>46.0</td>\n",
              "    </tr>\n",
              "    <tr>\n",
              "      <th>998</th>\n",
              "      <td>Step Up 2: The Streets</td>\n",
              "      <td>Drama,Music,Romance</td>\n",
              "      <td>Romantic sparks occur between two dance studen...</td>\n",
              "      <td>Jon M. Chu</td>\n",
              "      <td>Robert Hoffman, Briana Evigan, Cassie Ventura,...</td>\n",
              "      <td>2008</td>\n",
              "      <td>98</td>\n",
              "      <td>6.2</td>\n",
              "      <td>70699</td>\n",
              "      <td>58.01</td>\n",
              "      <td>50.0</td>\n",
              "    </tr>\n",
              "    <tr>\n",
              "      <th>999</th>\n",
              "      <td>Search Party</td>\n",
              "      <td>Adventure,Comedy</td>\n",
              "      <td>A pair of friends embark on a mission to reuni...</td>\n",
              "      <td>Scot Armstrong</td>\n",
              "      <td>Adam Pally, T.J. Miller, Thomas Middleditch,Sh...</td>\n",
              "      <td>2014</td>\n",
              "      <td>93</td>\n",
              "      <td>5.6</td>\n",
              "      <td>4881</td>\n",
              "      <td>NaN</td>\n",
              "      <td>22.0</td>\n",
              "    </tr>\n",
              "    <tr>\n",
              "      <th>1000</th>\n",
              "      <td>Nine Lives</td>\n",
              "      <td>Comedy,Family,Fantasy</td>\n",
              "      <td>A stuffy businessman finds himself trapped ins...</td>\n",
              "      <td>Barry Sonnenfeld</td>\n",
              "      <td>Kevin Spacey, Jennifer Garner, Robbie Amell,Ch...</td>\n",
              "      <td>2016</td>\n",
              "      <td>87</td>\n",
              "      <td>5.3</td>\n",
              "      <td>12435</td>\n",
              "      <td>19.64</td>\n",
              "      <td>11.0</td>\n",
              "    </tr>\n",
              "  </tbody>\n",
              "</table>\n",
              "<p>1000 rows × 11 columns</p>\n",
              "</div>"
            ],
            "text/plain": [
              "                        Title                     Genre  \\\n",
              "Rank                                                      \n",
              "1     Guardians of the Galaxy   Action,Adventure,Sci-Fi   \n",
              "2                  Prometheus  Adventure,Mystery,Sci-Fi   \n",
              "3                       Split           Horror,Thriller   \n",
              "4                        Sing   Animation,Comedy,Family   \n",
              "5               Suicide Squad  Action,Adventure,Fantasy   \n",
              "...                       ...                       ...   \n",
              "996      Secret in Their Eyes       Crime,Drama,Mystery   \n",
              "997           Hostel: Part II                    Horror   \n",
              "998    Step Up 2: The Streets       Drama,Music,Romance   \n",
              "999              Search Party          Adventure,Comedy   \n",
              "1000               Nine Lives     Comedy,Family,Fantasy   \n",
              "\n",
              "                                            Description              Director  \\\n",
              "Rank                                                                            \n",
              "1     A group of intergalactic criminals are forced ...            James Gunn   \n",
              "2     Following clues to the origin of mankind, a te...          Ridley Scott   \n",
              "3     Three girls are kidnapped by a man with a diag...    M. Night Shyamalan   \n",
              "4     In a city of humanoid animals, a hustling thea...  Christophe Lourdelet   \n",
              "5     A secret government agency recruits some of th...            David Ayer   \n",
              "...                                                 ...                   ...   \n",
              "996   A tight-knit team of rising investigators, alo...             Billy Ray   \n",
              "997   Three American college students studying abroa...              Eli Roth   \n",
              "998   Romantic sparks occur between two dance studen...            Jon M. Chu   \n",
              "999   A pair of friends embark on a mission to reuni...        Scot Armstrong   \n",
              "1000  A stuffy businessman finds himself trapped ins...      Barry Sonnenfeld   \n",
              "\n",
              "                                                 Actors  Year  \\\n",
              "Rank                                                            \n",
              "1     Chris Pratt, Vin Diesel, Bradley Cooper, Zoe S...  2014   \n",
              "2     Noomi Rapace, Logan Marshall-Green, Michael Fa...  2012   \n",
              "3     James McAvoy, Anya Taylor-Joy, Haley Lu Richar...  2016   \n",
              "4     Matthew McConaughey,Reese Witherspoon, Seth Ma...  2016   \n",
              "5     Will Smith, Jared Leto, Margot Robbie, Viola D...  2016   \n",
              "...                                                 ...   ...   \n",
              "996   Chiwetel Ejiofor, Nicole Kidman, Julia Roberts...  2015   \n",
              "997   Lauren German, Heather Matarazzo, Bijou Philli...  2007   \n",
              "998   Robert Hoffman, Briana Evigan, Cassie Ventura,...  2008   \n",
              "999   Adam Pally, T.J. Miller, Thomas Middleditch,Sh...  2014   \n",
              "1000  Kevin Spacey, Jennifer Garner, Robbie Amell,Ch...  2016   \n",
              "\n",
              "      Runtime (Minutes)  Rating   Votes  Revenue (Millions)  Metascore  \n",
              "Rank                                                                    \n",
              "1                   121     8.1  757074              333.13       76.0  \n",
              "2                   124     7.0  485820              126.46       65.0  \n",
              "3                   117     7.3  157606              138.12       62.0  \n",
              "4                   108     7.2   60545              270.32       59.0  \n",
              "5                   123     6.2  393727              325.02       40.0  \n",
              "...                 ...     ...     ...                 ...        ...  \n",
              "996                 111     6.2   27585                 NaN       45.0  \n",
              "997                  94     5.5   73152               17.54       46.0  \n",
              "998                  98     6.2   70699               58.01       50.0  \n",
              "999                  93     5.6    4881                 NaN       22.0  \n",
              "1000                 87     5.3   12435               19.64       11.0  \n",
              "\n",
              "[1000 rows x 11 columns]"
            ]
          },
          "execution_count": 67,
          "metadata": {},
          "output_type": "execute_result"
        }
      ],
      "source": [
        "df = pd.read_csv(\"IMDB-Movie-Data.csv\", index_col=0)\n",
        "\n",
        "df"
      ]
    },
    {
      "cell_type": "markdown",
      "metadata": {
        "id": "5nJzR2gX34Xn"
      },
      "source": [
        "Here we're setting the index to be column zero."
      ]
    },
    {
      "cell_type": "markdown",
      "metadata": {
        "id": "ogUrunyT34Xo"
      },
      "source": [
        "Just like with CSVs, we could pass `index_col='index'`, but we can also set an index after-the-fact:"
      ]
    },
    {
      "cell_type": "code",
      "execution_count": 68,
      "metadata": {
        "id": "xkpoySne34Xo",
        "outputId": "28102c04-1def-46e7-ec22-0291b4c74442"
      },
      "outputs": [
        {
          "data": {
            "text/html": [
              "<div>\n",
              "<style scoped>\n",
              "    .dataframe tbody tr th:only-of-type {\n",
              "        vertical-align: middle;\n",
              "    }\n",
              "\n",
              "    .dataframe tbody tr th {\n",
              "        vertical-align: top;\n",
              "    }\n",
              "\n",
              "    .dataframe thead th {\n",
              "        text-align: right;\n",
              "    }\n",
              "</style>\n",
              "<table border=\"1\" class=\"dataframe\">\n",
              "  <thead>\n",
              "    <tr style=\"text-align: right;\">\n",
              "      <th></th>\n",
              "      <th>Genre</th>\n",
              "      <th>Description</th>\n",
              "      <th>Director</th>\n",
              "      <th>Actors</th>\n",
              "      <th>Year</th>\n",
              "      <th>Runtime (Minutes)</th>\n",
              "      <th>Rating</th>\n",
              "      <th>Votes</th>\n",
              "      <th>Revenue (Millions)</th>\n",
              "      <th>Metascore</th>\n",
              "    </tr>\n",
              "    <tr>\n",
              "      <th>Title</th>\n",
              "      <th></th>\n",
              "      <th></th>\n",
              "      <th></th>\n",
              "      <th></th>\n",
              "      <th></th>\n",
              "      <th></th>\n",
              "      <th></th>\n",
              "      <th></th>\n",
              "      <th></th>\n",
              "      <th></th>\n",
              "    </tr>\n",
              "  </thead>\n",
              "  <tbody>\n",
              "    <tr>\n",
              "      <th>Guardians of the Galaxy</th>\n",
              "      <td>Action,Adventure,Sci-Fi</td>\n",
              "      <td>A group of intergalactic criminals are forced ...</td>\n",
              "      <td>James Gunn</td>\n",
              "      <td>Chris Pratt, Vin Diesel, Bradley Cooper, Zoe S...</td>\n",
              "      <td>2014</td>\n",
              "      <td>121</td>\n",
              "      <td>8.1</td>\n",
              "      <td>757074</td>\n",
              "      <td>333.13</td>\n",
              "      <td>76.0</td>\n",
              "    </tr>\n",
              "    <tr>\n",
              "      <th>Prometheus</th>\n",
              "      <td>Adventure,Mystery,Sci-Fi</td>\n",
              "      <td>Following clues to the origin of mankind, a te...</td>\n",
              "      <td>Ridley Scott</td>\n",
              "      <td>Noomi Rapace, Logan Marshall-Green, Michael Fa...</td>\n",
              "      <td>2012</td>\n",
              "      <td>124</td>\n",
              "      <td>7.0</td>\n",
              "      <td>485820</td>\n",
              "      <td>126.46</td>\n",
              "      <td>65.0</td>\n",
              "    </tr>\n",
              "    <tr>\n",
              "      <th>Split</th>\n",
              "      <td>Horror,Thriller</td>\n",
              "      <td>Three girls are kidnapped by a man with a diag...</td>\n",
              "      <td>M. Night Shyamalan</td>\n",
              "      <td>James McAvoy, Anya Taylor-Joy, Haley Lu Richar...</td>\n",
              "      <td>2016</td>\n",
              "      <td>117</td>\n",
              "      <td>7.3</td>\n",
              "      <td>157606</td>\n",
              "      <td>138.12</td>\n",
              "      <td>62.0</td>\n",
              "    </tr>\n",
              "    <tr>\n",
              "      <th>Sing</th>\n",
              "      <td>Animation,Comedy,Family</td>\n",
              "      <td>In a city of humanoid animals, a hustling thea...</td>\n",
              "      <td>Christophe Lourdelet</td>\n",
              "      <td>Matthew McConaughey,Reese Witherspoon, Seth Ma...</td>\n",
              "      <td>2016</td>\n",
              "      <td>108</td>\n",
              "      <td>7.2</td>\n",
              "      <td>60545</td>\n",
              "      <td>270.32</td>\n",
              "      <td>59.0</td>\n",
              "    </tr>\n",
              "    <tr>\n",
              "      <th>Suicide Squad</th>\n",
              "      <td>Action,Adventure,Fantasy</td>\n",
              "      <td>A secret government agency recruits some of th...</td>\n",
              "      <td>David Ayer</td>\n",
              "      <td>Will Smith, Jared Leto, Margot Robbie, Viola D...</td>\n",
              "      <td>2016</td>\n",
              "      <td>123</td>\n",
              "      <td>6.2</td>\n",
              "      <td>393727</td>\n",
              "      <td>325.02</td>\n",
              "      <td>40.0</td>\n",
              "    </tr>\n",
              "    <tr>\n",
              "      <th>...</th>\n",
              "      <td>...</td>\n",
              "      <td>...</td>\n",
              "      <td>...</td>\n",
              "      <td>...</td>\n",
              "      <td>...</td>\n",
              "      <td>...</td>\n",
              "      <td>...</td>\n",
              "      <td>...</td>\n",
              "      <td>...</td>\n",
              "      <td>...</td>\n",
              "    </tr>\n",
              "    <tr>\n",
              "      <th>Secret in Their Eyes</th>\n",
              "      <td>Crime,Drama,Mystery</td>\n",
              "      <td>A tight-knit team of rising investigators, alo...</td>\n",
              "      <td>Billy Ray</td>\n",
              "      <td>Chiwetel Ejiofor, Nicole Kidman, Julia Roberts...</td>\n",
              "      <td>2015</td>\n",
              "      <td>111</td>\n",
              "      <td>6.2</td>\n",
              "      <td>27585</td>\n",
              "      <td>NaN</td>\n",
              "      <td>45.0</td>\n",
              "    </tr>\n",
              "    <tr>\n",
              "      <th>Hostel: Part II</th>\n",
              "      <td>Horror</td>\n",
              "      <td>Three American college students studying abroa...</td>\n",
              "      <td>Eli Roth</td>\n",
              "      <td>Lauren German, Heather Matarazzo, Bijou Philli...</td>\n",
              "      <td>2007</td>\n",
              "      <td>94</td>\n",
              "      <td>5.5</td>\n",
              "      <td>73152</td>\n",
              "      <td>17.54</td>\n",
              "      <td>46.0</td>\n",
              "    </tr>\n",
              "    <tr>\n",
              "      <th>Step Up 2: The Streets</th>\n",
              "      <td>Drama,Music,Romance</td>\n",
              "      <td>Romantic sparks occur between two dance studen...</td>\n",
              "      <td>Jon M. Chu</td>\n",
              "      <td>Robert Hoffman, Briana Evigan, Cassie Ventura,...</td>\n",
              "      <td>2008</td>\n",
              "      <td>98</td>\n",
              "      <td>6.2</td>\n",
              "      <td>70699</td>\n",
              "      <td>58.01</td>\n",
              "      <td>50.0</td>\n",
              "    </tr>\n",
              "    <tr>\n",
              "      <th>Search Party</th>\n",
              "      <td>Adventure,Comedy</td>\n",
              "      <td>A pair of friends embark on a mission to reuni...</td>\n",
              "      <td>Scot Armstrong</td>\n",
              "      <td>Adam Pally, T.J. Miller, Thomas Middleditch,Sh...</td>\n",
              "      <td>2014</td>\n",
              "      <td>93</td>\n",
              "      <td>5.6</td>\n",
              "      <td>4881</td>\n",
              "      <td>NaN</td>\n",
              "      <td>22.0</td>\n",
              "    </tr>\n",
              "    <tr>\n",
              "      <th>Nine Lives</th>\n",
              "      <td>Comedy,Family,Fantasy</td>\n",
              "      <td>A stuffy businessman finds himself trapped ins...</td>\n",
              "      <td>Barry Sonnenfeld</td>\n",
              "      <td>Kevin Spacey, Jennifer Garner, Robbie Amell,Ch...</td>\n",
              "      <td>2016</td>\n",
              "      <td>87</td>\n",
              "      <td>5.3</td>\n",
              "      <td>12435</td>\n",
              "      <td>19.64</td>\n",
              "      <td>11.0</td>\n",
              "    </tr>\n",
              "  </tbody>\n",
              "</table>\n",
              "<p>1000 rows × 10 columns</p>\n",
              "</div>"
            ],
            "text/plain": [
              "                                            Genre  \\\n",
              "Title                                               \n",
              "Guardians of the Galaxy   Action,Adventure,Sci-Fi   \n",
              "Prometheus               Adventure,Mystery,Sci-Fi   \n",
              "Split                             Horror,Thriller   \n",
              "Sing                      Animation,Comedy,Family   \n",
              "Suicide Squad            Action,Adventure,Fantasy   \n",
              "...                                           ...   \n",
              "Secret in Their Eyes          Crime,Drama,Mystery   \n",
              "Hostel: Part II                            Horror   \n",
              "Step Up 2: The Streets        Drama,Music,Romance   \n",
              "Search Party                     Adventure,Comedy   \n",
              "Nine Lives                  Comedy,Family,Fantasy   \n",
              "\n",
              "                                                               Description  \\\n",
              "Title                                                                        \n",
              "Guardians of the Galaxy  A group of intergalactic criminals are forced ...   \n",
              "Prometheus               Following clues to the origin of mankind, a te...   \n",
              "Split                    Three girls are kidnapped by a man with a diag...   \n",
              "Sing                     In a city of humanoid animals, a hustling thea...   \n",
              "Suicide Squad            A secret government agency recruits some of th...   \n",
              "...                                                                    ...   \n",
              "Secret in Their Eyes     A tight-knit team of rising investigators, alo...   \n",
              "Hostel: Part II          Three American college students studying abroa...   \n",
              "Step Up 2: The Streets   Romantic sparks occur between two dance studen...   \n",
              "Search Party             A pair of friends embark on a mission to reuni...   \n",
              "Nine Lives               A stuffy businessman finds himself trapped ins...   \n",
              "\n",
              "                                     Director  \\\n",
              "Title                                           \n",
              "Guardians of the Galaxy            James Gunn   \n",
              "Prometheus                       Ridley Scott   \n",
              "Split                      M. Night Shyamalan   \n",
              "Sing                     Christophe Lourdelet   \n",
              "Suicide Squad                      David Ayer   \n",
              "...                                       ...   \n",
              "Secret in Their Eyes                Billy Ray   \n",
              "Hostel: Part II                      Eli Roth   \n",
              "Step Up 2: The Streets             Jon M. Chu   \n",
              "Search Party                   Scot Armstrong   \n",
              "Nine Lives                   Barry Sonnenfeld   \n",
              "\n",
              "                                                                    Actors  \\\n",
              "Title                                                                        \n",
              "Guardians of the Galaxy  Chris Pratt, Vin Diesel, Bradley Cooper, Zoe S...   \n",
              "Prometheus               Noomi Rapace, Logan Marshall-Green, Michael Fa...   \n",
              "Split                    James McAvoy, Anya Taylor-Joy, Haley Lu Richar...   \n",
              "Sing                     Matthew McConaughey,Reese Witherspoon, Seth Ma...   \n",
              "Suicide Squad            Will Smith, Jared Leto, Margot Robbie, Viola D...   \n",
              "...                                                                    ...   \n",
              "Secret in Their Eyes     Chiwetel Ejiofor, Nicole Kidman, Julia Roberts...   \n",
              "Hostel: Part II          Lauren German, Heather Matarazzo, Bijou Philli...   \n",
              "Step Up 2: The Streets   Robert Hoffman, Briana Evigan, Cassie Ventura,...   \n",
              "Search Party             Adam Pally, T.J. Miller, Thomas Middleditch,Sh...   \n",
              "Nine Lives               Kevin Spacey, Jennifer Garner, Robbie Amell,Ch...   \n",
              "\n",
              "                         Year  Runtime (Minutes)  Rating   Votes  \\\n",
              "Title                                                              \n",
              "Guardians of the Galaxy  2014                121     8.1  757074   \n",
              "Prometheus               2012                124     7.0  485820   \n",
              "Split                    2016                117     7.3  157606   \n",
              "Sing                     2016                108     7.2   60545   \n",
              "Suicide Squad            2016                123     6.2  393727   \n",
              "...                       ...                ...     ...     ...   \n",
              "Secret in Their Eyes     2015                111     6.2   27585   \n",
              "Hostel: Part II          2007                 94     5.5   73152   \n",
              "Step Up 2: The Streets   2008                 98     6.2   70699   \n",
              "Search Party             2014                 93     5.6    4881   \n",
              "Nine Lives               2016                 87     5.3   12435   \n",
              "\n",
              "                         Revenue (Millions)  Metascore  \n",
              "Title                                                   \n",
              "Guardians of the Galaxy              333.13       76.0  \n",
              "Prometheus                           126.46       65.0  \n",
              "Split                                138.12       62.0  \n",
              "Sing                                 270.32       59.0  \n",
              "Suicide Squad                        325.02       40.0  \n",
              "...                                     ...        ...  \n",
              "Secret in Their Eyes                    NaN       45.0  \n",
              "Hostel: Part II                       17.54       46.0  \n",
              "Step Up 2: The Streets                58.01       50.0  \n",
              "Search Party                            NaN       22.0  \n",
              "Nine Lives                            19.64       11.0  \n",
              "\n",
              "[1000 rows x 10 columns]"
            ]
          },
          "execution_count": 68,
          "metadata": {},
          "output_type": "execute_result"
        }
      ],
      "source": [
        "df = df.set_index('Title')\n",
        "\n",
        "df"
      ]
    },
    {
      "cell_type": "markdown",
      "metadata": {
        "id": "JMdNU72V34Xo"
      },
      "source": [
        "In fact, we could use `set_index()` on *any* DataFrame using *any* column at *any* time. Indexing Series and DataFrames is a very common task, and the different ways of doing it is worth remembering."
      ]
    },
    {
      "cell_type": "markdown",
      "metadata": {},
      "source": [
        "## Practice Question"
      ]
    },
    {
      "cell_type": "markdown",
      "metadata": {},
      "source": [
        "Who are some of the actors in Ocean's Thirteen?"
      ]
    },
    {
      "cell_type": "code",
      "execution_count": 89,
      "metadata": {},
      "outputs": [
        {
          "data": {
            "text/plain": [
              "'George Clooney, Brad Pitt, Matt Damon,Michael Mantell'"
            ]
          },
          "execution_count": 89,
          "metadata": {},
          "output_type": "execute_result"
        }
      ],
      "source": [
        "# Answer here:\n",
        "df.loc[\"Ocean's Thirteen\", \"Actors\"]"
      ]
    },
    {
      "cell_type": "markdown",
      "metadata": {
        "id": "-NJq7sBD34Xp"
      },
      "source": [
        "Let's move on to importing some real-world data and detailing a few of the operations you'll be using a lot.\n",
        "\n",
        "\n",
        "## Most important DataFrame operations\n",
        "\n",
        "DataFrames possess hundreds of methods and other operations that are crucial to any analysis. As a beginner, you should know the operations that perform simple transformations of your data and those that provide fundamental statistical analysis.\n",
        "\n",
        "Let's load in the IMDB movies dataset to begin:"
      ]
    },
    {
      "cell_type": "code",
      "execution_count": 103,
      "metadata": {
        "id": "CjCOD5Wn34Xp"
      },
      "outputs": [],
      "source": [
        "df = pd.read_csv(\"IMDB-Movie-Data.csv\", index_col=\"Title\")"
      ]
    },
    {
      "cell_type": "markdown",
      "metadata": {
        "id": "ylqHT9ge34Xp"
      },
      "source": [
        "We're loading this dataset from a CSV and designating the movie titles to be our index."
      ]
    },
    {
      "cell_type": "markdown",
      "metadata": {
        "id": "OfYy46vY34Xp"
      },
      "source": [
        "### Viewing your data\n",
        "\n",
        "The first thing to do when opening a new dataset is print out a few rows to keep as a visual reference. We accomplish this with `.head()`:"
      ]
    },
    {
      "cell_type": "code",
      "execution_count": 71,
      "metadata": {
        "id": "oaOuU9D434Xp",
        "outputId": "ccaa708c-14a4-4ec5-a808-cabeb80627ec"
      },
      "outputs": [
        {
          "data": {
            "text/html": [
              "<div>\n",
              "<style scoped>\n",
              "    .dataframe tbody tr th:only-of-type {\n",
              "        vertical-align: middle;\n",
              "    }\n",
              "\n",
              "    .dataframe tbody tr th {\n",
              "        vertical-align: top;\n",
              "    }\n",
              "\n",
              "    .dataframe thead th {\n",
              "        text-align: right;\n",
              "    }\n",
              "</style>\n",
              "<table border=\"1\" class=\"dataframe\">\n",
              "  <thead>\n",
              "    <tr style=\"text-align: right;\">\n",
              "      <th></th>\n",
              "      <th>Rank</th>\n",
              "      <th>Genre</th>\n",
              "      <th>Description</th>\n",
              "      <th>Director</th>\n",
              "      <th>Actors</th>\n",
              "      <th>Year</th>\n",
              "      <th>Runtime (Minutes)</th>\n",
              "      <th>Rating</th>\n",
              "      <th>Votes</th>\n",
              "      <th>Revenue (Millions)</th>\n",
              "      <th>Metascore</th>\n",
              "    </tr>\n",
              "    <tr>\n",
              "      <th>Title</th>\n",
              "      <th></th>\n",
              "      <th></th>\n",
              "      <th></th>\n",
              "      <th></th>\n",
              "      <th></th>\n",
              "      <th></th>\n",
              "      <th></th>\n",
              "      <th></th>\n",
              "      <th></th>\n",
              "      <th></th>\n",
              "      <th></th>\n",
              "    </tr>\n",
              "  </thead>\n",
              "  <tbody>\n",
              "    <tr>\n",
              "      <th>Guardians of the Galaxy</th>\n",
              "      <td>1</td>\n",
              "      <td>Action,Adventure,Sci-Fi</td>\n",
              "      <td>A group of intergalactic criminals are forced ...</td>\n",
              "      <td>James Gunn</td>\n",
              "      <td>Chris Pratt, Vin Diesel, Bradley Cooper, Zoe S...</td>\n",
              "      <td>2014</td>\n",
              "      <td>121</td>\n",
              "      <td>8.1</td>\n",
              "      <td>757074</td>\n",
              "      <td>333.13</td>\n",
              "      <td>76.0</td>\n",
              "    </tr>\n",
              "    <tr>\n",
              "      <th>Prometheus</th>\n",
              "      <td>2</td>\n",
              "      <td>Adventure,Mystery,Sci-Fi</td>\n",
              "      <td>Following clues to the origin of mankind, a te...</td>\n",
              "      <td>Ridley Scott</td>\n",
              "      <td>Noomi Rapace, Logan Marshall-Green, Michael Fa...</td>\n",
              "      <td>2012</td>\n",
              "      <td>124</td>\n",
              "      <td>7.0</td>\n",
              "      <td>485820</td>\n",
              "      <td>126.46</td>\n",
              "      <td>65.0</td>\n",
              "    </tr>\n",
              "    <tr>\n",
              "      <th>Split</th>\n",
              "      <td>3</td>\n",
              "      <td>Horror,Thriller</td>\n",
              "      <td>Three girls are kidnapped by a man with a diag...</td>\n",
              "      <td>M. Night Shyamalan</td>\n",
              "      <td>James McAvoy, Anya Taylor-Joy, Haley Lu Richar...</td>\n",
              "      <td>2016</td>\n",
              "      <td>117</td>\n",
              "      <td>7.3</td>\n",
              "      <td>157606</td>\n",
              "      <td>138.12</td>\n",
              "      <td>62.0</td>\n",
              "    </tr>\n",
              "    <tr>\n",
              "      <th>Sing</th>\n",
              "      <td>4</td>\n",
              "      <td>Animation,Comedy,Family</td>\n",
              "      <td>In a city of humanoid animals, a hustling thea...</td>\n",
              "      <td>Christophe Lourdelet</td>\n",
              "      <td>Matthew McConaughey,Reese Witherspoon, Seth Ma...</td>\n",
              "      <td>2016</td>\n",
              "      <td>108</td>\n",
              "      <td>7.2</td>\n",
              "      <td>60545</td>\n",
              "      <td>270.32</td>\n",
              "      <td>59.0</td>\n",
              "    </tr>\n",
              "    <tr>\n",
              "      <th>Suicide Squad</th>\n",
              "      <td>5</td>\n",
              "      <td>Action,Adventure,Fantasy</td>\n",
              "      <td>A secret government agency recruits some of th...</td>\n",
              "      <td>David Ayer</td>\n",
              "      <td>Will Smith, Jared Leto, Margot Robbie, Viola D...</td>\n",
              "      <td>2016</td>\n",
              "      <td>123</td>\n",
              "      <td>6.2</td>\n",
              "      <td>393727</td>\n",
              "      <td>325.02</td>\n",
              "      <td>40.0</td>\n",
              "    </tr>\n",
              "  </tbody>\n",
              "</table>\n",
              "</div>"
            ],
            "text/plain": [
              "                         Rank                     Genre  \\\n",
              "Title                                                     \n",
              "Guardians of the Galaxy     1   Action,Adventure,Sci-Fi   \n",
              "Prometheus                  2  Adventure,Mystery,Sci-Fi   \n",
              "Split                       3           Horror,Thriller   \n",
              "Sing                        4   Animation,Comedy,Family   \n",
              "Suicide Squad               5  Action,Adventure,Fantasy   \n",
              "\n",
              "                                                               Description  \\\n",
              "Title                                                                        \n",
              "Guardians of the Galaxy  A group of intergalactic criminals are forced ...   \n",
              "Prometheus               Following clues to the origin of mankind, a te...   \n",
              "Split                    Three girls are kidnapped by a man with a diag...   \n",
              "Sing                     In a city of humanoid animals, a hustling thea...   \n",
              "Suicide Squad            A secret government agency recruits some of th...   \n",
              "\n",
              "                                     Director  \\\n",
              "Title                                           \n",
              "Guardians of the Galaxy            James Gunn   \n",
              "Prometheus                       Ridley Scott   \n",
              "Split                      M. Night Shyamalan   \n",
              "Sing                     Christophe Lourdelet   \n",
              "Suicide Squad                      David Ayer   \n",
              "\n",
              "                                                                    Actors  \\\n",
              "Title                                                                        \n",
              "Guardians of the Galaxy  Chris Pratt, Vin Diesel, Bradley Cooper, Zoe S...   \n",
              "Prometheus               Noomi Rapace, Logan Marshall-Green, Michael Fa...   \n",
              "Split                    James McAvoy, Anya Taylor-Joy, Haley Lu Richar...   \n",
              "Sing                     Matthew McConaughey,Reese Witherspoon, Seth Ma...   \n",
              "Suicide Squad            Will Smith, Jared Leto, Margot Robbie, Viola D...   \n",
              "\n",
              "                         Year  Runtime (Minutes)  Rating   Votes  \\\n",
              "Title                                                              \n",
              "Guardians of the Galaxy  2014                121     8.1  757074   \n",
              "Prometheus               2012                124     7.0  485820   \n",
              "Split                    2016                117     7.3  157606   \n",
              "Sing                     2016                108     7.2   60545   \n",
              "Suicide Squad            2016                123     6.2  393727   \n",
              "\n",
              "                         Revenue (Millions)  Metascore  \n",
              "Title                                                   \n",
              "Guardians of the Galaxy              333.13       76.0  \n",
              "Prometheus                           126.46       65.0  \n",
              "Split                                138.12       62.0  \n",
              "Sing                                 270.32       59.0  \n",
              "Suicide Squad                        325.02       40.0  "
            ]
          },
          "execution_count": 71,
          "metadata": {},
          "output_type": "execute_result"
        }
      ],
      "source": [
        "df.head()"
      ]
    },
    {
      "cell_type": "markdown",
      "metadata": {
        "id": "nwfjWGmi34Xp"
      },
      "source": [
        "`.head()` outputs the **first** five rows of your DataFrame by default, but we could also pass a number as well: `df.head(10)` would output the top ten rows, for example.\n",
        "\n",
        "To see the **last** five rows use `.tail()`. `tail()` also accepts a number, and in this case we printing the bottom two rows.:"
      ]
    },
    {
      "cell_type": "code",
      "execution_count": 72,
      "metadata": {
        "id": "bEJfyPQ934Xp",
        "outputId": "952aa1f0-d890-42f9-d5dd-7efde85dd3e9"
      },
      "outputs": [
        {
          "data": {
            "text/html": [
              "<div>\n",
              "<style scoped>\n",
              "    .dataframe tbody tr th:only-of-type {\n",
              "        vertical-align: middle;\n",
              "    }\n",
              "\n",
              "    .dataframe tbody tr th {\n",
              "        vertical-align: top;\n",
              "    }\n",
              "\n",
              "    .dataframe thead th {\n",
              "        text-align: right;\n",
              "    }\n",
              "</style>\n",
              "<table border=\"1\" class=\"dataframe\">\n",
              "  <thead>\n",
              "    <tr style=\"text-align: right;\">\n",
              "      <th></th>\n",
              "      <th>Rank</th>\n",
              "      <th>Genre</th>\n",
              "      <th>Description</th>\n",
              "      <th>Director</th>\n",
              "      <th>Actors</th>\n",
              "      <th>Year</th>\n",
              "      <th>Runtime (Minutes)</th>\n",
              "      <th>Rating</th>\n",
              "      <th>Votes</th>\n",
              "      <th>Revenue (Millions)</th>\n",
              "      <th>Metascore</th>\n",
              "    </tr>\n",
              "    <tr>\n",
              "      <th>Title</th>\n",
              "      <th></th>\n",
              "      <th></th>\n",
              "      <th></th>\n",
              "      <th></th>\n",
              "      <th></th>\n",
              "      <th></th>\n",
              "      <th></th>\n",
              "      <th></th>\n",
              "      <th></th>\n",
              "      <th></th>\n",
              "      <th></th>\n",
              "    </tr>\n",
              "  </thead>\n",
              "  <tbody>\n",
              "    <tr>\n",
              "      <th>Search Party</th>\n",
              "      <td>999</td>\n",
              "      <td>Adventure,Comedy</td>\n",
              "      <td>A pair of friends embark on a mission to reuni...</td>\n",
              "      <td>Scot Armstrong</td>\n",
              "      <td>Adam Pally, T.J. Miller, Thomas Middleditch,Sh...</td>\n",
              "      <td>2014</td>\n",
              "      <td>93</td>\n",
              "      <td>5.6</td>\n",
              "      <td>4881</td>\n",
              "      <td>NaN</td>\n",
              "      <td>22.0</td>\n",
              "    </tr>\n",
              "    <tr>\n",
              "      <th>Nine Lives</th>\n",
              "      <td>1000</td>\n",
              "      <td>Comedy,Family,Fantasy</td>\n",
              "      <td>A stuffy businessman finds himself trapped ins...</td>\n",
              "      <td>Barry Sonnenfeld</td>\n",
              "      <td>Kevin Spacey, Jennifer Garner, Robbie Amell,Ch...</td>\n",
              "      <td>2016</td>\n",
              "      <td>87</td>\n",
              "      <td>5.3</td>\n",
              "      <td>12435</td>\n",
              "      <td>19.64</td>\n",
              "      <td>11.0</td>\n",
              "    </tr>\n",
              "  </tbody>\n",
              "</table>\n",
              "</div>"
            ],
            "text/plain": [
              "              Rank                  Genre  \\\n",
              "Title                                       \n",
              "Search Party   999       Adventure,Comedy   \n",
              "Nine Lives    1000  Comedy,Family,Fantasy   \n",
              "\n",
              "                                                    Description  \\\n",
              "Title                                                             \n",
              "Search Party  A pair of friends embark on a mission to reuni...   \n",
              "Nine Lives    A stuffy businessman finds himself trapped ins...   \n",
              "\n",
              "                      Director  \\\n",
              "Title                            \n",
              "Search Party    Scot Armstrong   \n",
              "Nine Lives    Barry Sonnenfeld   \n",
              "\n",
              "                                                         Actors  Year  \\\n",
              "Title                                                                   \n",
              "Search Party  Adam Pally, T.J. Miller, Thomas Middleditch,Sh...  2014   \n",
              "Nine Lives    Kevin Spacey, Jennifer Garner, Robbie Amell,Ch...  2016   \n",
              "\n",
              "              Runtime (Minutes)  Rating  Votes  Revenue (Millions)  Metascore  \n",
              "Title                                                                          \n",
              "Search Party                 93     5.6   4881                 NaN       22.0  \n",
              "Nine Lives                   87     5.3  12435               19.64       11.0  "
            ]
          },
          "execution_count": 72,
          "metadata": {},
          "output_type": "execute_result"
        }
      ],
      "source": [
        "df.tail(2)"
      ]
    },
    {
      "cell_type": "markdown",
      "metadata": {
        "id": "xGpn8XNM34Xp"
      },
      "source": [
        "Typically when we load in a dataset, we like to view the first five or so rows to see what's under the hood. Here we can see the names of each column, the index, and examples of values in each row.\n",
        "\n",
        "You'll notice that the index in our DataFrame is the *Title* column, which you can tell by how the word *Title* is slightly lower than the rest of the columns."
      ]
    },
    {
      "cell_type": "markdown",
      "metadata": {
        "id": "rkHEwsIi34Xp"
      },
      "source": [
        "### Getting info about your data\n",
        "\n",
        "`.info()` should be one of the very first commands you run after loading your data:"
      ]
    },
    {
      "cell_type": "code",
      "execution_count": 73,
      "metadata": {
        "id": "NHo75ex534Xp",
        "outputId": "03139359-d3f0-4554-ddbb-e1d1633b0c72"
      },
      "outputs": [
        {
          "name": "stdout",
          "output_type": "stream",
          "text": [
            "<class 'pandas.core.frame.DataFrame'>\n",
            "Index: 1000 entries, Guardians of the Galaxy to Nine Lives\n",
            "Data columns (total 11 columns):\n",
            " #   Column              Non-Null Count  Dtype  \n",
            "---  ------              --------------  -----  \n",
            " 0   Rank                1000 non-null   int64  \n",
            " 1   Genre               1000 non-null   object \n",
            " 2   Description         1000 non-null   object \n",
            " 3   Director            1000 non-null   object \n",
            " 4   Actors              1000 non-null   object \n",
            " 5   Year                1000 non-null   int64  \n",
            " 6   Runtime (Minutes)   1000 non-null   int64  \n",
            " 7   Rating              1000 non-null   float64\n",
            " 8   Votes               1000 non-null   int64  \n",
            " 9   Revenue (Millions)  872 non-null    float64\n",
            " 10  Metascore           936 non-null    float64\n",
            "dtypes: float64(3), int64(4), object(4)\n",
            "memory usage: 93.8+ KB\n"
          ]
        }
      ],
      "source": [
        "df.info()"
      ]
    },
    {
      "cell_type": "markdown",
      "metadata": {
        "id": "dIN6u-6R34Xp"
      },
      "source": [
        "`.info()` provides the essential details about your dataset, such as the number of rows and columns, the number of non-null values, what type of data is in each column, and how much memory your DataFrame is using.\n",
        "\n",
        "Notice in our movies dataset we have some obvious missing values in the `Revenue` and `Metascore` columns. We'll look at how to handle those in a bit.\n",
        "\n",
        "Another fast and useful attribute is `.shape`, which outputs just a tuple of (rows, columns):"
      ]
    },
    {
      "cell_type": "code",
      "execution_count": 74,
      "metadata": {
        "id": "2kh0SLxk34Xp",
        "outputId": "e98e4b06-d7fb-42d2-e2c6-96d2a98eee9d"
      },
      "outputs": [
        {
          "data": {
            "text/plain": [
              "(1000, 11)"
            ]
          },
          "execution_count": 74,
          "metadata": {},
          "output_type": "execute_result"
        }
      ],
      "source": [
        "df.shape"
      ]
    },
    {
      "cell_type": "markdown",
      "metadata": {
        "id": "Hxu-z_Y_34Xq"
      },
      "source": [
        "Note that `.shape` has no parentheses and is a simple tuple of format (rows, columns). So we have **1000 rows** and **11 columns** in our movies DataFrame.\n",
        "\n",
        "You'll be going to `.shape` a lot when cleaning and transforming data. For example, you might filter some rows based on some criteria and then want to know quickly how many rows were removed."
      ]
    },
    {
      "cell_type": "code",
      "execution_count": 75,
      "metadata": {
        "id": "4MCn5XUN34Xq",
        "outputId": "ef7b6514-d7c7-40f6-c944-4c2c32c5a0e5"
      },
      "outputs": [
        {
          "data": {
            "text/html": [
              "<div>\n",
              "<style scoped>\n",
              "    .dataframe tbody tr th:only-of-type {\n",
              "        vertical-align: middle;\n",
              "    }\n",
              "\n",
              "    .dataframe tbody tr th {\n",
              "        vertical-align: top;\n",
              "    }\n",
              "\n",
              "    .dataframe thead th {\n",
              "        text-align: right;\n",
              "    }\n",
              "</style>\n",
              "<table border=\"1\" class=\"dataframe\">\n",
              "  <thead>\n",
              "    <tr style=\"text-align: right;\">\n",
              "      <th></th>\n",
              "      <th>Rank</th>\n",
              "      <th>Year</th>\n",
              "      <th>Runtime (Minutes)</th>\n",
              "      <th>Rating</th>\n",
              "      <th>Votes</th>\n",
              "      <th>Revenue (Millions)</th>\n",
              "      <th>Metascore</th>\n",
              "    </tr>\n",
              "  </thead>\n",
              "  <tbody>\n",
              "    <tr>\n",
              "      <th>count</th>\n",
              "      <td>1000.000000</td>\n",
              "      <td>1000.000000</td>\n",
              "      <td>1000.000000</td>\n",
              "      <td>1000.000000</td>\n",
              "      <td>1.000000e+03</td>\n",
              "      <td>872.000000</td>\n",
              "      <td>936.000000</td>\n",
              "    </tr>\n",
              "    <tr>\n",
              "      <th>mean</th>\n",
              "      <td>500.500000</td>\n",
              "      <td>2012.783000</td>\n",
              "      <td>113.172000</td>\n",
              "      <td>6.723200</td>\n",
              "      <td>1.698083e+05</td>\n",
              "      <td>82.956376</td>\n",
              "      <td>58.985043</td>\n",
              "    </tr>\n",
              "    <tr>\n",
              "      <th>std</th>\n",
              "      <td>288.819436</td>\n",
              "      <td>3.205962</td>\n",
              "      <td>18.810908</td>\n",
              "      <td>0.945429</td>\n",
              "      <td>1.887626e+05</td>\n",
              "      <td>103.253540</td>\n",
              "      <td>17.194757</td>\n",
              "    </tr>\n",
              "    <tr>\n",
              "      <th>min</th>\n",
              "      <td>1.000000</td>\n",
              "      <td>2006.000000</td>\n",
              "      <td>66.000000</td>\n",
              "      <td>1.900000</td>\n",
              "      <td>6.100000e+01</td>\n",
              "      <td>0.000000</td>\n",
              "      <td>11.000000</td>\n",
              "    </tr>\n",
              "    <tr>\n",
              "      <th>25%</th>\n",
              "      <td>250.750000</td>\n",
              "      <td>2010.000000</td>\n",
              "      <td>100.000000</td>\n",
              "      <td>6.200000</td>\n",
              "      <td>3.630900e+04</td>\n",
              "      <td>13.270000</td>\n",
              "      <td>47.000000</td>\n",
              "    </tr>\n",
              "    <tr>\n",
              "      <th>50%</th>\n",
              "      <td>500.500000</td>\n",
              "      <td>2014.000000</td>\n",
              "      <td>111.000000</td>\n",
              "      <td>6.800000</td>\n",
              "      <td>1.107990e+05</td>\n",
              "      <td>47.985000</td>\n",
              "      <td>59.500000</td>\n",
              "    </tr>\n",
              "    <tr>\n",
              "      <th>75%</th>\n",
              "      <td>750.250000</td>\n",
              "      <td>2016.000000</td>\n",
              "      <td>123.000000</td>\n",
              "      <td>7.400000</td>\n",
              "      <td>2.399098e+05</td>\n",
              "      <td>113.715000</td>\n",
              "      <td>72.000000</td>\n",
              "    </tr>\n",
              "    <tr>\n",
              "      <th>max</th>\n",
              "      <td>1000.000000</td>\n",
              "      <td>2016.000000</td>\n",
              "      <td>191.000000</td>\n",
              "      <td>9.000000</td>\n",
              "      <td>1.791916e+06</td>\n",
              "      <td>936.630000</td>\n",
              "      <td>100.000000</td>\n",
              "    </tr>\n",
              "  </tbody>\n",
              "</table>\n",
              "</div>"
            ],
            "text/plain": [
              "              Rank         Year  Runtime (Minutes)       Rating         Votes  \\\n",
              "count  1000.000000  1000.000000        1000.000000  1000.000000  1.000000e+03   \n",
              "mean    500.500000  2012.783000         113.172000     6.723200  1.698083e+05   \n",
              "std     288.819436     3.205962          18.810908     0.945429  1.887626e+05   \n",
              "min       1.000000  2006.000000          66.000000     1.900000  6.100000e+01   \n",
              "25%     250.750000  2010.000000         100.000000     6.200000  3.630900e+04   \n",
              "50%     500.500000  2014.000000         111.000000     6.800000  1.107990e+05   \n",
              "75%     750.250000  2016.000000         123.000000     7.400000  2.399098e+05   \n",
              "max    1000.000000  2016.000000         191.000000     9.000000  1.791916e+06   \n",
              "\n",
              "       Revenue (Millions)   Metascore  \n",
              "count          872.000000  936.000000  \n",
              "mean            82.956376   58.985043  \n",
              "std            103.253540   17.194757  \n",
              "min              0.000000   11.000000  \n",
              "25%             13.270000   47.000000  \n",
              "50%             47.985000   59.500000  \n",
              "75%            113.715000   72.000000  \n",
              "max            936.630000  100.000000  "
            ]
          },
          "execution_count": 75,
          "metadata": {},
          "output_type": "execute_result"
        }
      ],
      "source": [
        "df.describe()"
      ]
    },
    {
      "cell_type": "markdown",
      "metadata": {
        "id": "SrEcZ79y34Xq"
      },
      "source": [
        "### Handling duplicates"
      ]
    },
    {
      "cell_type": "markdown",
      "metadata": {
        "id": "mJixJHJq34Xq"
      },
      "source": [
        "This dataset does not have duplicate rows, but it is always important to verify you aren't aggregating duplicate rows.\n",
        "\n",
        "To demonstrate, let's simply just double up our movies DataFrame by appending it to itself:"
      ]
    },
    {
      "cell_type": "code",
      "execution_count": 76,
      "metadata": {
        "id": "niHCo_OL34Xq",
        "outputId": "122445b9-0a8f-4212-87a8-8197bddac233"
      },
      "outputs": [
        {
          "data": {
            "text/plain": [
              "(2000, 11)"
            ]
          },
          "execution_count": 76,
          "metadata": {},
          "output_type": "execute_result"
        }
      ],
      "source": [
        "temp_df = pd.concat([df, df])\n",
        "\n",
        "temp_df.shape"
      ]
    },
    {
      "cell_type": "markdown",
      "metadata": {
        "id": "J8v92NRO34Xq"
      },
      "source": [
        "Using `append()` will return a copy without affecting the original DataFrame. We are capturing this copy in `temp` so we aren't working with the real data.\n",
        "\n",
        "Notice call `.shape` quickly proves our DataFrame rows have doubled.\n",
        "\n",
        "Now we can try dropping duplicates:"
      ]
    },
    {
      "cell_type": "code",
      "execution_count": 77,
      "metadata": {
        "id": "SW0Gjwpw34Xq",
        "outputId": "59dc31d4-d016-4f5d-eb54-46f38eb2ab7b"
      },
      "outputs": [
        {
          "data": {
            "text/plain": [
              "(1000, 11)"
            ]
          },
          "execution_count": 77,
          "metadata": {},
          "output_type": "execute_result"
        }
      ],
      "source": [
        "temp_df = temp_df.drop_duplicates()\n",
        "\n",
        "temp_df.shape"
      ]
    },
    {
      "cell_type": "markdown",
      "metadata": {
        "id": "Vw-px9eQ34Xq"
      },
      "source": [
        "Just like `append()`, the `drop_duplicates()` method will also return a copy of your DataFrame, but this time with duplicates removed. Calling `.shape` confirms we're back to the 1000 rows of our original dataset.\n",
        "\n",
        "It's a little verbose to keep assigning DataFrames to the same variable like in this example. For this reason, pandas has the `inplace` keyword argument on many of its methods. Using `inplace=True` will modify the DataFrame object in place:"
      ]
    },
    {
      "cell_type": "code",
      "execution_count": 78,
      "metadata": {
        "id": "jWE7c0BM34Xq"
      },
      "outputs": [],
      "source": [
        "temp_df.drop_duplicates(inplace=True)"
      ]
    },
    {
      "cell_type": "markdown",
      "metadata": {
        "id": "B2uvo00P34Xq"
      },
      "source": [
        "Now our `temp_df` *will* have the transformed data automatically.\n",
        "\n",
        "Another important argument for `drop_duplicates()` is `keep`, which has three possible options:\n",
        "\n",
        "* `first`: (default) Drop duplicates except for the first occurrence.\n",
        "* `last`: Drop duplicates except for the last occurrence.\n",
        "* `False`: Drop all duplicates.\n",
        "\n",
        "Since we didn't define the `keep` arugment in the previous example it was defaulted to `first`. This means that if two rows are the same pandas will drop the second row and keep the first row. Using `last` has the opposite effect: the first row is dropped.\n",
        "\n",
        "`keep`, on the other hand, will drop all duplicates. If two rows are the same then both will be dropped. Watch what happens to `temp_df`:"
      ]
    },
    {
      "cell_type": "code",
      "execution_count": 79,
      "metadata": {
        "id": "x6cNDLc734Xq",
        "outputId": "0c4d615e-dc7b-4832-9777-de46c1e1a82d"
      },
      "outputs": [
        {
          "data": {
            "text/plain": [
              "(0, 11)"
            ]
          },
          "execution_count": 79,
          "metadata": {},
          "output_type": "execute_result"
        }
      ],
      "source": [
        "temp_df = pd.concat([df, df])  # make a new copy\n",
        "\n",
        "temp_df.drop_duplicates(inplace=True, keep=False)\n",
        "\n",
        "temp_df.shape"
      ]
    },
    {
      "cell_type": "markdown",
      "metadata": {
        "id": "XKvspr-b34Xq"
      },
      "source": [
        "Since all rows were duplicates, `keep=False` dropped them all resulting in zero rows being left over. If you're wondering why you would want to do this, one reason is that it allows you to locate all duplicates in your dataset. When conditional selections are shown below you'll see how to do that."
      ]
    },
    {
      "cell_type": "markdown",
      "metadata": {
        "id": "dmaULP4834Xq"
      },
      "source": [
        "### Column cleanup\n",
        "\n",
        "Many times datasets will have verbose column names with symbols, upper and lowercase words, spaces, and typos. To make selecting data by column name easier we can spend a little time cleaning up their names.\n",
        "\n",
        "Here's how to print the column names of our dataset:"
      ]
    },
    {
      "cell_type": "code",
      "execution_count": 80,
      "metadata": {
        "id": "AVMf0-oj34Xr",
        "outputId": "cc55144b-8eff-4345-ebe5-15e4ec85fcc8"
      },
      "outputs": [
        {
          "data": {
            "text/plain": [
              "Index(['Rank', 'Genre', 'Description', 'Director', 'Actors', 'Year',\n",
              "       'Runtime (Minutes)', 'Rating', 'Votes', 'Revenue (Millions)',\n",
              "       'Metascore'],\n",
              "      dtype='object')"
            ]
          },
          "execution_count": 80,
          "metadata": {},
          "output_type": "execute_result"
        }
      ],
      "source": [
        "df.columns"
      ]
    },
    {
      "cell_type": "markdown",
      "metadata": {
        "id": "RX6Upaqe34Xr"
      },
      "source": [
        "Not only does `.columns` come in handy if you want to rename columns by allowing for simple copy and paste, it's also useful if you need to understand why you are receiving a `Key Error` when selecting data by column.\n",
        "\n",
        "We can use the `.rename()` method to rename certain or all columns via a `dict`. We don't want parentheses, so let's rename those:"
      ]
    },
    {
      "cell_type": "code",
      "execution_count": 81,
      "metadata": {
        "id": "S6c6CI3H34Xr",
        "outputId": "6f9f9285-38f8-47bb-fbb9-d5e675bc0fe2"
      },
      "outputs": [
        {
          "data": {
            "text/plain": [
              "Index(['Rank', 'Genre', 'Description', 'Director', 'Actors', 'Year', 'Runtime',\n",
              "       'Rating', 'Votes', 'Revenue_millions', 'Metascore'],\n",
              "      dtype='object')"
            ]
          },
          "execution_count": 81,
          "metadata": {},
          "output_type": "execute_result"
        }
      ],
      "source": [
        "df.rename(columns={\n",
        "        'Runtime (Minutes)': 'Runtime',\n",
        "        'Revenue (Millions)': 'Revenue_millions'\n",
        "    }, inplace=True)\n",
        "\n",
        "\n",
        "df.columns"
      ]
    },
    {
      "cell_type": "markdown",
      "metadata": {
        "id": "JkKmahgH34Xr"
      },
      "source": [
        "Excellent. But what if we want to lowercase all names? Instead of using `.rename()` we could also set a list of names to the columns like so:"
      ]
    },
    {
      "cell_type": "code",
      "execution_count": 82,
      "metadata": {
        "id": "EIVTTWrM34Xr",
        "outputId": "af396cff-d2eb-412c-f033-766936ebef2c"
      },
      "outputs": [
        {
          "data": {
            "text/plain": [
              "Index(['rank', 'genre', 'description', 'director', 'actors', 'year', 'runtime',\n",
              "       'rating', 'votes', 'revenue_millions', 'metascore'],\n",
              "      dtype='object')"
            ]
          },
          "execution_count": 82,
          "metadata": {},
          "output_type": "execute_result"
        }
      ],
      "source": [
        "df.columns = ['rank', 'genre', 'description', 'director', 'actors', 'year', 'runtime',\n",
        "                     'rating', 'votes', 'revenue_millions', 'metascore']\n",
        "\n",
        "\n",
        "df.columns"
      ]
    },
    {
      "cell_type": "markdown",
      "metadata": {
        "id": "YYgSYjOz34Xr"
      },
      "source": [
        "But that's too much work. Instead of just renaming each column manually we can do a list comprehension:"
      ]
    },
    {
      "cell_type": "code",
      "execution_count": 83,
      "metadata": {
        "id": "t_E5vq5r34Xr",
        "outputId": "406c02a7-b9f3-443d-bccb-bebc9d434ff4",
        "scrolled": true
      },
      "outputs": [
        {
          "data": {
            "text/plain": [
              "Index(['rank', 'genre', 'description', 'director', 'actors', 'year', 'runtime',\n",
              "       'rating', 'votes', 'revenue_millions', 'metascore'],\n",
              "      dtype='object')"
            ]
          },
          "execution_count": 83,
          "metadata": {},
          "output_type": "execute_result"
        }
      ],
      "source": [
        "df.columns = [col.lower() for col in df.columns]\n",
        "\n",
        "df.columns"
      ]
    },
    {
      "cell_type": "markdown",
      "metadata": {
        "id": "Jr223hKu34Xr"
      },
      "source": [
        "# <b>Pandas Filtering<b>"
      ]
    },
    {
      "cell_type": "markdown",
      "metadata": {
        "id": "ICxGCi8u34Xr"
      },
      "source": [
        "Filtering data is extremely important and frequently asked in coding interviews"
      ]
    },
    {
      "cell_type": "code",
      "execution_count": 84,
      "metadata": {
        "id": "KU5K19BP34Xr",
        "outputId": "d19233cf-dbfa-4395-b1f9-1e20b78010ee",
        "scrolled": true
      },
      "outputs": [
        {
          "data": {
            "text/html": [
              "<div>\n",
              "<style scoped>\n",
              "    .dataframe tbody tr th:only-of-type {\n",
              "        vertical-align: middle;\n",
              "    }\n",
              "\n",
              "    .dataframe tbody tr th {\n",
              "        vertical-align: top;\n",
              "    }\n",
              "\n",
              "    .dataframe thead th {\n",
              "        text-align: right;\n",
              "    }\n",
              "</style>\n",
              "<table border=\"1\" class=\"dataframe\">\n",
              "  <thead>\n",
              "    <tr style=\"text-align: right;\">\n",
              "      <th></th>\n",
              "      <th>rank</th>\n",
              "      <th>genre</th>\n",
              "      <th>description</th>\n",
              "      <th>director</th>\n",
              "      <th>actors</th>\n",
              "      <th>year</th>\n",
              "      <th>runtime</th>\n",
              "      <th>rating</th>\n",
              "      <th>votes</th>\n",
              "      <th>revenue_millions</th>\n",
              "      <th>metascore</th>\n",
              "    </tr>\n",
              "    <tr>\n",
              "      <th>Title</th>\n",
              "      <th></th>\n",
              "      <th></th>\n",
              "      <th></th>\n",
              "      <th></th>\n",
              "      <th></th>\n",
              "      <th></th>\n",
              "      <th></th>\n",
              "      <th></th>\n",
              "      <th></th>\n",
              "      <th></th>\n",
              "      <th></th>\n",
              "    </tr>\n",
              "  </thead>\n",
              "  <tbody>\n",
              "    <tr>\n",
              "      <th>Guardians of the Galaxy</th>\n",
              "      <td>1</td>\n",
              "      <td>Action,Adventure,Sci-Fi</td>\n",
              "      <td>A group of intergalactic criminals are forced ...</td>\n",
              "      <td>James Gunn</td>\n",
              "      <td>Chris Pratt, Vin Diesel, Bradley Cooper, Zoe S...</td>\n",
              "      <td>2014</td>\n",
              "      <td>121</td>\n",
              "      <td>8.1</td>\n",
              "      <td>757074</td>\n",
              "      <td>333.13</td>\n",
              "      <td>76.0</td>\n",
              "    </tr>\n",
              "    <tr>\n",
              "      <th>Interstellar</th>\n",
              "      <td>37</td>\n",
              "      <td>Adventure,Drama,Sci-Fi</td>\n",
              "      <td>A team of explorers travel through a wormhole ...</td>\n",
              "      <td>Christopher Nolan</td>\n",
              "      <td>Matthew McConaughey, Anne Hathaway, Jessica Ch...</td>\n",
              "      <td>2014</td>\n",
              "      <td>169</td>\n",
              "      <td>8.6</td>\n",
              "      <td>1047747</td>\n",
              "      <td>187.99</td>\n",
              "      <td>74.0</td>\n",
              "    </tr>\n",
              "    <tr>\n",
              "      <th>John Wick</th>\n",
              "      <td>54</td>\n",
              "      <td>Action,Crime,Thriller</td>\n",
              "      <td>An ex-hitman comes out of retirement to track ...</td>\n",
              "      <td>Chad Stahelski</td>\n",
              "      <td>Keanu Reeves, Michael Nyqvist, Alfie Allen, Wi...</td>\n",
              "      <td>2014</td>\n",
              "      <td>101</td>\n",
              "      <td>7.2</td>\n",
              "      <td>321933</td>\n",
              "      <td>43.00</td>\n",
              "      <td>68.0</td>\n",
              "    </tr>\n",
              "    <tr>\n",
              "      <th>Kingsman: The Secret Service</th>\n",
              "      <td>66</td>\n",
              "      <td>Action,Adventure,Comedy</td>\n",
              "      <td>A spy organization recruits an unrefined, but ...</td>\n",
              "      <td>Matthew Vaughn</td>\n",
              "      <td>Colin Firth, Taron Egerton, Samuel L. Jackson,...</td>\n",
              "      <td>2014</td>\n",
              "      <td>129</td>\n",
              "      <td>7.7</td>\n",
              "      <td>440209</td>\n",
              "      <td>128.25</td>\n",
              "      <td>58.0</td>\n",
              "    </tr>\n",
              "    <tr>\n",
              "      <th>Gone Girl</th>\n",
              "      <td>84</td>\n",
              "      <td>Crime,Drama,Mystery</td>\n",
              "      <td>With his wife's disappearance having become th...</td>\n",
              "      <td>David Fincher</td>\n",
              "      <td>Ben Affleck, Rosamund Pike, Neil Patrick Harri...</td>\n",
              "      <td>2014</td>\n",
              "      <td>149</td>\n",
              "      <td>8.1</td>\n",
              "      <td>636243</td>\n",
              "      <td>167.74</td>\n",
              "      <td>79.0</td>\n",
              "    </tr>\n",
              "    <tr>\n",
              "      <th>...</th>\n",
              "      <td>...</td>\n",
              "      <td>...</td>\n",
              "      <td>...</td>\n",
              "      <td>...</td>\n",
              "      <td>...</td>\n",
              "      <td>...</td>\n",
              "      <td>...</td>\n",
              "      <td>...</td>\n",
              "      <td>...</td>\n",
              "      <td>...</td>\n",
              "      <td>...</td>\n",
              "    </tr>\n",
              "    <tr>\n",
              "      <th>Annie</th>\n",
              "      <td>982</td>\n",
              "      <td>Comedy,Drama,Family</td>\n",
              "      <td>A foster kid, who lives with her mean foster m...</td>\n",
              "      <td>Will Gluck</td>\n",
              "      <td>Quvenzhané Wallis, Cameron Diaz, Jamie Foxx, R...</td>\n",
              "      <td>2014</td>\n",
              "      <td>118</td>\n",
              "      <td>5.3</td>\n",
              "      <td>27312</td>\n",
              "      <td>85.91</td>\n",
              "      <td>33.0</td>\n",
              "    </tr>\n",
              "    <tr>\n",
              "      <th>Let's Be Cops</th>\n",
              "      <td>984</td>\n",
              "      <td>Comedy</td>\n",
              "      <td>Two struggling pals dress as police officers f...</td>\n",
              "      <td>Luke Greenfield</td>\n",
              "      <td>Jake Johnson, Damon Wayans Jr., Rob Riggle, Ni...</td>\n",
              "      <td>2014</td>\n",
              "      <td>104</td>\n",
              "      <td>6.5</td>\n",
              "      <td>112729</td>\n",
              "      <td>82.39</td>\n",
              "      <td>30.0</td>\n",
              "    </tr>\n",
              "    <tr>\n",
              "      <th>Endless Love</th>\n",
              "      <td>988</td>\n",
              "      <td>Drama,Romance</td>\n",
              "      <td>The story of a privileged girl and a charismat...</td>\n",
              "      <td>Shana Feste</td>\n",
              "      <td>Gabriella Wilde, Alex Pettyfer, Bruce Greenwoo...</td>\n",
              "      <td>2014</td>\n",
              "      <td>104</td>\n",
              "      <td>6.3</td>\n",
              "      <td>33688</td>\n",
              "      <td>23.39</td>\n",
              "      <td>30.0</td>\n",
              "    </tr>\n",
              "    <tr>\n",
              "      <th>Selma</th>\n",
              "      <td>990</td>\n",
              "      <td>Biography,Drama,History</td>\n",
              "      <td>A chronicle of Martin Luther King's campaign t...</td>\n",
              "      <td>Ava DuVernay</td>\n",
              "      <td>David Oyelowo, Carmen Ejogo, Tim Roth, Lorrain...</td>\n",
              "      <td>2014</td>\n",
              "      <td>128</td>\n",
              "      <td>7.5</td>\n",
              "      <td>67637</td>\n",
              "      <td>52.07</td>\n",
              "      <td>NaN</td>\n",
              "    </tr>\n",
              "    <tr>\n",
              "      <th>Search Party</th>\n",
              "      <td>999</td>\n",
              "      <td>Adventure,Comedy</td>\n",
              "      <td>A pair of friends embark on a mission to reuni...</td>\n",
              "      <td>Scot Armstrong</td>\n",
              "      <td>Adam Pally, T.J. Miller, Thomas Middleditch,Sh...</td>\n",
              "      <td>2014</td>\n",
              "      <td>93</td>\n",
              "      <td>5.6</td>\n",
              "      <td>4881</td>\n",
              "      <td>NaN</td>\n",
              "      <td>22.0</td>\n",
              "    </tr>\n",
              "  </tbody>\n",
              "</table>\n",
              "<p>98 rows × 11 columns</p>\n",
              "</div>"
            ],
            "text/plain": [
              "                              rank                    genre  \\\n",
              "Title                                                         \n",
              "Guardians of the Galaxy          1  Action,Adventure,Sci-Fi   \n",
              "Interstellar                    37   Adventure,Drama,Sci-Fi   \n",
              "John Wick                       54    Action,Crime,Thriller   \n",
              "Kingsman: The Secret Service    66  Action,Adventure,Comedy   \n",
              "Gone Girl                       84      Crime,Drama,Mystery   \n",
              "...                            ...                      ...   \n",
              "Annie                          982      Comedy,Drama,Family   \n",
              "Let's Be Cops                  984                   Comedy   \n",
              "Endless Love                   988            Drama,Romance   \n",
              "Selma                          990  Biography,Drama,History   \n",
              "Search Party                   999         Adventure,Comedy   \n",
              "\n",
              "                                                                    description  \\\n",
              "Title                                                                             \n",
              "Guardians of the Galaxy       A group of intergalactic criminals are forced ...   \n",
              "Interstellar                  A team of explorers travel through a wormhole ...   \n",
              "John Wick                     An ex-hitman comes out of retirement to track ...   \n",
              "Kingsman: The Secret Service  A spy organization recruits an unrefined, but ...   \n",
              "Gone Girl                     With his wife's disappearance having become th...   \n",
              "...                                                                         ...   \n",
              "Annie                         A foster kid, who lives with her mean foster m...   \n",
              "Let's Be Cops                 Two struggling pals dress as police officers f...   \n",
              "Endless Love                  The story of a privileged girl and a charismat...   \n",
              "Selma                         A chronicle of Martin Luther King's campaign t...   \n",
              "Search Party                  A pair of friends embark on a mission to reuni...   \n",
              "\n",
              "                                       director  \\\n",
              "Title                                             \n",
              "Guardians of the Galaxy              James Gunn   \n",
              "Interstellar                  Christopher Nolan   \n",
              "John Wick                        Chad Stahelski   \n",
              "Kingsman: The Secret Service     Matthew Vaughn   \n",
              "Gone Girl                         David Fincher   \n",
              "...                                         ...   \n",
              "Annie                                Will Gluck   \n",
              "Let's Be Cops                   Luke Greenfield   \n",
              "Endless Love                        Shana Feste   \n",
              "Selma                              Ava DuVernay   \n",
              "Search Party                     Scot Armstrong   \n",
              "\n",
              "                                                                         actors  \\\n",
              "Title                                                                             \n",
              "Guardians of the Galaxy       Chris Pratt, Vin Diesel, Bradley Cooper, Zoe S...   \n",
              "Interstellar                  Matthew McConaughey, Anne Hathaway, Jessica Ch...   \n",
              "John Wick                     Keanu Reeves, Michael Nyqvist, Alfie Allen, Wi...   \n",
              "Kingsman: The Secret Service  Colin Firth, Taron Egerton, Samuel L. Jackson,...   \n",
              "Gone Girl                     Ben Affleck, Rosamund Pike, Neil Patrick Harri...   \n",
              "...                                                                         ...   \n",
              "Annie                         Quvenzhané Wallis, Cameron Diaz, Jamie Foxx, R...   \n",
              "Let's Be Cops                 Jake Johnson, Damon Wayans Jr., Rob Riggle, Ni...   \n",
              "Endless Love                  Gabriella Wilde, Alex Pettyfer, Bruce Greenwoo...   \n",
              "Selma                         David Oyelowo, Carmen Ejogo, Tim Roth, Lorrain...   \n",
              "Search Party                  Adam Pally, T.J. Miller, Thomas Middleditch,Sh...   \n",
              "\n",
              "                              year  runtime  rating    votes  \\\n",
              "Title                                                          \n",
              "Guardians of the Galaxy       2014      121     8.1   757074   \n",
              "Interstellar                  2014      169     8.6  1047747   \n",
              "John Wick                     2014      101     7.2   321933   \n",
              "Kingsman: The Secret Service  2014      129     7.7   440209   \n",
              "Gone Girl                     2014      149     8.1   636243   \n",
              "...                            ...      ...     ...      ...   \n",
              "Annie                         2014      118     5.3    27312   \n",
              "Let's Be Cops                 2014      104     6.5   112729   \n",
              "Endless Love                  2014      104     6.3    33688   \n",
              "Selma                         2014      128     7.5    67637   \n",
              "Search Party                  2014       93     5.6     4881   \n",
              "\n",
              "                              revenue_millions  metascore  \n",
              "Title                                                      \n",
              "Guardians of the Galaxy                 333.13       76.0  \n",
              "Interstellar                            187.99       74.0  \n",
              "John Wick                                43.00       68.0  \n",
              "Kingsman: The Secret Service            128.25       58.0  \n",
              "Gone Girl                               167.74       79.0  \n",
              "...                                        ...        ...  \n",
              "Annie                                    85.91       33.0  \n",
              "Let's Be Cops                            82.39       30.0  \n",
              "Endless Love                             23.39       30.0  \n",
              "Selma                                    52.07        NaN  \n",
              "Search Party                               NaN       22.0  \n",
              "\n",
              "[98 rows x 11 columns]"
            ]
          },
          "execution_count": 84,
          "metadata": {},
          "output_type": "execute_result"
        }
      ],
      "source": [
        "mask = df['year'] == 2014\n",
        "df[mask]"
      ]
    },
    {
      "cell_type": "code",
      "execution_count": 85,
      "metadata": {
        "id": "pSO8NEI134Xr",
        "outputId": "99c5b920-64e4-44b4-9059-6a8337990918"
      },
      "outputs": [
        {
          "data": {
            "text/html": [
              "<div>\n",
              "<style scoped>\n",
              "    .dataframe tbody tr th:only-of-type {\n",
              "        vertical-align: middle;\n",
              "    }\n",
              "\n",
              "    .dataframe tbody tr th {\n",
              "        vertical-align: top;\n",
              "    }\n",
              "\n",
              "    .dataframe thead th {\n",
              "        text-align: right;\n",
              "    }\n",
              "</style>\n",
              "<table border=\"1\" class=\"dataframe\">\n",
              "  <thead>\n",
              "    <tr style=\"text-align: right;\">\n",
              "      <th></th>\n",
              "      <th>rank</th>\n",
              "      <th>genre</th>\n",
              "      <th>description</th>\n",
              "      <th>director</th>\n",
              "      <th>actors</th>\n",
              "      <th>year</th>\n",
              "      <th>runtime</th>\n",
              "      <th>rating</th>\n",
              "      <th>votes</th>\n",
              "      <th>revenue_millions</th>\n",
              "      <th>metascore</th>\n",
              "    </tr>\n",
              "    <tr>\n",
              "      <th>Title</th>\n",
              "      <th></th>\n",
              "      <th></th>\n",
              "      <th></th>\n",
              "      <th></th>\n",
              "      <th></th>\n",
              "      <th></th>\n",
              "      <th></th>\n",
              "      <th></th>\n",
              "      <th></th>\n",
              "      <th></th>\n",
              "      <th></th>\n",
              "    </tr>\n",
              "  </thead>\n",
              "  <tbody>\n",
              "    <tr>\n",
              "      <th>The Avengers</th>\n",
              "      <td>77</td>\n",
              "      <td>Action,Sci-Fi</td>\n",
              "      <td>Earth's mightiest heroes must come together an...</td>\n",
              "      <td>Joss Whedon</td>\n",
              "      <td>Robert Downey Jr., Chris Evans, Scarlett Johan...</td>\n",
              "      <td>2012</td>\n",
              "      <td>143</td>\n",
              "      <td>8.1</td>\n",
              "      <td>1045588</td>\n",
              "      <td>623.28</td>\n",
              "      <td>69.0</td>\n",
              "    </tr>\n",
              "    <tr>\n",
              "      <th>The Dark Knight Rises</th>\n",
              "      <td>125</td>\n",
              "      <td>Action,Thriller</td>\n",
              "      <td>Eight years after the Joker's reign of anarchy...</td>\n",
              "      <td>Christopher Nolan</td>\n",
              "      <td>Christian Bale, Tom Hardy, Anne Hathaway,Gary ...</td>\n",
              "      <td>2012</td>\n",
              "      <td>164</td>\n",
              "      <td>8.5</td>\n",
              "      <td>1222645</td>\n",
              "      <td>448.13</td>\n",
              "      <td>78.0</td>\n",
              "    </tr>\n",
              "    <tr>\n",
              "      <th>Battleship</th>\n",
              "      <td>257</td>\n",
              "      <td>Action,Adventure,Sci-Fi</td>\n",
              "      <td>A fleet of ships is forced to do battle with a...</td>\n",
              "      <td>Peter Berg</td>\n",
              "      <td>Alexander Skarsgård, Brooklyn Decker, Liam Nee...</td>\n",
              "      <td>2012</td>\n",
              "      <td>131</td>\n",
              "      <td>5.8</td>\n",
              "      <td>210349</td>\n",
              "      <td>65.17</td>\n",
              "      <td>41.0</td>\n",
              "    </tr>\n",
              "    <tr>\n",
              "      <th>Skyfall</th>\n",
              "      <td>271</td>\n",
              "      <td>Action,Adventure,Thriller</td>\n",
              "      <td>Bond's loyalty to M is tested when her past co...</td>\n",
              "      <td>Sam Mendes</td>\n",
              "      <td>Daniel Craig, Javier Bardem, Naomie Harris, Ju...</td>\n",
              "      <td>2012</td>\n",
              "      <td>143</td>\n",
              "      <td>7.8</td>\n",
              "      <td>547386</td>\n",
              "      <td>304.36</td>\n",
              "      <td>81.0</td>\n",
              "    </tr>\n",
              "    <tr>\n",
              "      <th>21 Jump Street</th>\n",
              "      <td>273</td>\n",
              "      <td>Action,Comedy,Crime</td>\n",
              "      <td>A pair of underachieving cops are sent back to...</td>\n",
              "      <td>Phil Lord</td>\n",
              "      <td>Jonah Hill, Channing Tatum, Ice Cube,Brie Larson</td>\n",
              "      <td>2012</td>\n",
              "      <td>110</td>\n",
              "      <td>7.2</td>\n",
              "      <td>432046</td>\n",
              "      <td>138.45</td>\n",
              "      <td>69.0</td>\n",
              "    </tr>\n",
              "    <tr>\n",
              "      <th>Looper</th>\n",
              "      <td>342</td>\n",
              "      <td>Action,Crime,Drama</td>\n",
              "      <td>In 2074, when the mob wants to get rid of some...</td>\n",
              "      <td>Rian Johnson</td>\n",
              "      <td>Joseph Gordon-Levitt, Bruce Willis, Emily Blun...</td>\n",
              "      <td>2012</td>\n",
              "      <td>119</td>\n",
              "      <td>7.4</td>\n",
              "      <td>452369</td>\n",
              "      <td>66.47</td>\n",
              "      <td>84.0</td>\n",
              "    </tr>\n",
              "    <tr>\n",
              "      <th>The Amazing Spider-Man</th>\n",
              "      <td>369</td>\n",
              "      <td>Action,Adventure</td>\n",
              "      <td>After Peter Parker is bitten by a genetically ...</td>\n",
              "      <td>Marc Webb</td>\n",
              "      <td>Andrew Garfield, Emma Stone, Rhys Ifans, Irrfa...</td>\n",
              "      <td>2012</td>\n",
              "      <td>136</td>\n",
              "      <td>7.0</td>\n",
              "      <td>474320</td>\n",
              "      <td>262.03</td>\n",
              "      <td>66.0</td>\n",
              "    </tr>\n",
              "    <tr>\n",
              "      <th>John Carter</th>\n",
              "      <td>390</td>\n",
              "      <td>Action,Adventure,Sci-Fi</td>\n",
              "      <td>Transported to Barsoom, a Civil War vet discov...</td>\n",
              "      <td>Andrew Stanton</td>\n",
              "      <td>Taylor Kitsch, Lynn Collins, Willem Dafoe,Sama...</td>\n",
              "      <td>2012</td>\n",
              "      <td>132</td>\n",
              "      <td>6.6</td>\n",
              "      <td>220667</td>\n",
              "      <td>73.06</td>\n",
              "      <td>51.0</td>\n",
              "    </tr>\n",
              "    <tr>\n",
              "      <th>Dredd</th>\n",
              "      <td>447</td>\n",
              "      <td>Action,Sci-Fi</td>\n",
              "      <td>In a violent, futuristic city where the police...</td>\n",
              "      <td>Pete Travis</td>\n",
              "      <td>Karl Urban, Olivia Thirlby, Lena Headey, Rache...</td>\n",
              "      <td>2012</td>\n",
              "      <td>95</td>\n",
              "      <td>7.1</td>\n",
              "      <td>213764</td>\n",
              "      <td>13.40</td>\n",
              "      <td>59.0</td>\n",
              "    </tr>\n",
              "    <tr>\n",
              "      <th>Men in Black 3</th>\n",
              "      <td>497</td>\n",
              "      <td>Action,Adventure,Comedy</td>\n",
              "      <td>Agent J travels in time to M.I.B.'s early days...</td>\n",
              "      <td>Barry Sonnenfeld</td>\n",
              "      <td>Will Smith, Tommy Lee Jones, Josh Brolin,Jemai...</td>\n",
              "      <td>2012</td>\n",
              "      <td>106</td>\n",
              "      <td>6.8</td>\n",
              "      <td>278379</td>\n",
              "      <td>179.02</td>\n",
              "      <td>58.0</td>\n",
              "    </tr>\n",
              "    <tr>\n",
              "      <th>The Bourne Legacy</th>\n",
              "      <td>530</td>\n",
              "      <td>Action,Adventure,Mystery</td>\n",
              "      <td>An expansion of the universe from Robert Ludlu...</td>\n",
              "      <td>Tony Gilroy</td>\n",
              "      <td>Jeremy Renner, Rachel Weisz, Edward Norton, Sc...</td>\n",
              "      <td>2012</td>\n",
              "      <td>135</td>\n",
              "      <td>6.7</td>\n",
              "      <td>245374</td>\n",
              "      <td>113.17</td>\n",
              "      <td>61.0</td>\n",
              "    </tr>\n",
              "    <tr>\n",
              "      <th>Jack Reacher</th>\n",
              "      <td>537</td>\n",
              "      <td>Action,Crime,Mystery</td>\n",
              "      <td>A homicide investigator digs deeper into a cas...</td>\n",
              "      <td>Christopher McQuarrie</td>\n",
              "      <td>Tom Cruise, Rosamund Pike, Richard Jenkins, We...</td>\n",
              "      <td>2012</td>\n",
              "      <td>130</td>\n",
              "      <td>7.0</td>\n",
              "      <td>250811</td>\n",
              "      <td>58.68</td>\n",
              "      <td>50.0</td>\n",
              "    </tr>\n",
              "    <tr>\n",
              "      <th>Snow White and the Huntsman</th>\n",
              "      <td>565</td>\n",
              "      <td>Action,Adventure,Drama</td>\n",
              "      <td>In a twist to the fairy tale, the Huntsman ord...</td>\n",
              "      <td>Rupert Sanders</td>\n",
              "      <td>Kristen Stewart, Chris Hemsworth, Charlize The...</td>\n",
              "      <td>2012</td>\n",
              "      <td>127</td>\n",
              "      <td>6.1</td>\n",
              "      <td>239772</td>\n",
              "      <td>155.11</td>\n",
              "      <td>57.0</td>\n",
              "    </tr>\n",
              "    <tr>\n",
              "      <th>Underworld Awakening</th>\n",
              "      <td>622</td>\n",
              "      <td>Action,Fantasy,Horror</td>\n",
              "      <td>When human forces discover the existence of th...</td>\n",
              "      <td>Måns Mårlind</td>\n",
              "      <td>Kate Beckinsale, Michael Ealy, India Eisley, S...</td>\n",
              "      <td>2012</td>\n",
              "      <td>88</td>\n",
              "      <td>6.4</td>\n",
              "      <td>127157</td>\n",
              "      <td>62.32</td>\n",
              "      <td>39.0</td>\n",
              "    </tr>\n",
              "    <tr>\n",
              "      <th>Total Recall</th>\n",
              "      <td>626</td>\n",
              "      <td>Action,Adventure,Mystery</td>\n",
              "      <td>A factory worker, Douglas Quaid, begins to sus...</td>\n",
              "      <td>Len Wiseman</td>\n",
              "      <td>Colin Farrell, Bokeem Woodbine, Bryan Cranston...</td>\n",
              "      <td>2012</td>\n",
              "      <td>118</td>\n",
              "      <td>6.3</td>\n",
              "      <td>210965</td>\n",
              "      <td>58.88</td>\n",
              "      <td>43.0</td>\n",
              "    </tr>\n",
              "    <tr>\n",
              "      <th>Resident Evil: Retribution</th>\n",
              "      <td>691</td>\n",
              "      <td>Action,Horror,Sci-Fi</td>\n",
              "      <td>Alice fights alongside a resistance movement t...</td>\n",
              "      <td>Paul W.S. Anderson</td>\n",
              "      <td>Milla Jovovich, Sienna Guillory, Michelle Rodr...</td>\n",
              "      <td>2012</td>\n",
              "      <td>96</td>\n",
              "      <td>5.4</td>\n",
              "      <td>114144</td>\n",
              "      <td>42.35</td>\n",
              "      <td>39.0</td>\n",
              "    </tr>\n",
              "    <tr>\n",
              "      <th>This Means War</th>\n",
              "      <td>754</td>\n",
              "      <td>Action,Comedy,Romance</td>\n",
              "      <td>Two top CIA operatives wage an epic battle aga...</td>\n",
              "      <td>McG</td>\n",
              "      <td>Reese Witherspoon, Chris Pine, Tom Hardy, Til ...</td>\n",
              "      <td>2012</td>\n",
              "      <td>103</td>\n",
              "      <td>6.3</td>\n",
              "      <td>154400</td>\n",
              "      <td>54.76</td>\n",
              "      <td>31.0</td>\n",
              "    </tr>\n",
              "    <tr>\n",
              "      <th>Man on a Ledge</th>\n",
              "      <td>795</td>\n",
              "      <td>Action,Crime,Thriller</td>\n",
              "      <td>As a police psychologist works to talk down an...</td>\n",
              "      <td>Asger Leth</td>\n",
              "      <td>Sam Worthington, Elizabeth Banks, Jamie Bell, ...</td>\n",
              "      <td>2012</td>\n",
              "      <td>102</td>\n",
              "      <td>6.6</td>\n",
              "      <td>129252</td>\n",
              "      <td>18.60</td>\n",
              "      <td>40.0</td>\n",
              "    </tr>\n",
              "    <tr>\n",
              "      <th>Red Dawn</th>\n",
              "      <td>873</td>\n",
              "      <td>Action,Thriller</td>\n",
              "      <td>A group of teenagers look to save their town f...</td>\n",
              "      <td>Dan Bradley</td>\n",
              "      <td>Chris Hemsworth, Isabel Lucas, Josh Hutcherson...</td>\n",
              "      <td>2012</td>\n",
              "      <td>93</td>\n",
              "      <td>5.4</td>\n",
              "      <td>64584</td>\n",
              "      <td>44.80</td>\n",
              "      <td>31.0</td>\n",
              "    </tr>\n",
              "    <tr>\n",
              "      <th>Wrath of the Titans</th>\n",
              "      <td>880</td>\n",
              "      <td>Action,Adventure,Fantasy</td>\n",
              "      <td>Perseus braves the treacherous underworld to r...</td>\n",
              "      <td>Jonathan Liebesman</td>\n",
              "      <td>Sam Worthington, Liam Neeson, Rosamund Pike, R...</td>\n",
              "      <td>2012</td>\n",
              "      <td>99</td>\n",
              "      <td>5.8</td>\n",
              "      <td>159230</td>\n",
              "      <td>83.64</td>\n",
              "      <td>37.0</td>\n",
              "    </tr>\n",
              "    <tr>\n",
              "      <th>The Expendables 2</th>\n",
              "      <td>917</td>\n",
              "      <td>Action,Adventure,Thriller</td>\n",
              "      <td>Mr. Church reunites the Expendables for what s...</td>\n",
              "      <td>Simon West</td>\n",
              "      <td>Sylvester Stallone, Liam Hemsworth, Randy Cout...</td>\n",
              "      <td>2012</td>\n",
              "      <td>103</td>\n",
              "      <td>6.6</td>\n",
              "      <td>257395</td>\n",
              "      <td>85.02</td>\n",
              "      <td>51.0</td>\n",
              "    </tr>\n",
              "  </tbody>\n",
              "</table>\n",
              "</div>"
            ],
            "text/plain": [
              "                             rank                      genre  \\\n",
              "Title                                                          \n",
              "The Avengers                   77              Action,Sci-Fi   \n",
              "The Dark Knight Rises         125            Action,Thriller   \n",
              "Battleship                    257    Action,Adventure,Sci-Fi   \n",
              "Skyfall                       271  Action,Adventure,Thriller   \n",
              "21 Jump Street                273        Action,Comedy,Crime   \n",
              "Looper                        342         Action,Crime,Drama   \n",
              "The Amazing Spider-Man        369           Action,Adventure   \n",
              "John Carter                   390    Action,Adventure,Sci-Fi   \n",
              "Dredd                         447              Action,Sci-Fi   \n",
              "Men in Black 3                497    Action,Adventure,Comedy   \n",
              "The Bourne Legacy             530   Action,Adventure,Mystery   \n",
              "Jack Reacher                  537       Action,Crime,Mystery   \n",
              "Snow White and the Huntsman   565     Action,Adventure,Drama   \n",
              "Underworld Awakening          622      Action,Fantasy,Horror   \n",
              "Total Recall                  626   Action,Adventure,Mystery   \n",
              "Resident Evil: Retribution    691       Action,Horror,Sci-Fi   \n",
              "This Means War                754      Action,Comedy,Romance   \n",
              "Man on a Ledge                795      Action,Crime,Thriller   \n",
              "Red Dawn                      873            Action,Thriller   \n",
              "Wrath of the Titans           880   Action,Adventure,Fantasy   \n",
              "The Expendables 2             917  Action,Adventure,Thriller   \n",
              "\n",
              "                                                                   description  \\\n",
              "Title                                                                            \n",
              "The Avengers                 Earth's mightiest heroes must come together an...   \n",
              "The Dark Knight Rises        Eight years after the Joker's reign of anarchy...   \n",
              "Battleship                   A fleet of ships is forced to do battle with a...   \n",
              "Skyfall                      Bond's loyalty to M is tested when her past co...   \n",
              "21 Jump Street               A pair of underachieving cops are sent back to...   \n",
              "Looper                       In 2074, when the mob wants to get rid of some...   \n",
              "The Amazing Spider-Man       After Peter Parker is bitten by a genetically ...   \n",
              "John Carter                  Transported to Barsoom, a Civil War vet discov...   \n",
              "Dredd                        In a violent, futuristic city where the police...   \n",
              "Men in Black 3               Agent J travels in time to M.I.B.'s early days...   \n",
              "The Bourne Legacy            An expansion of the universe from Robert Ludlu...   \n",
              "Jack Reacher                 A homicide investigator digs deeper into a cas...   \n",
              "Snow White and the Huntsman  In a twist to the fairy tale, the Huntsman ord...   \n",
              "Underworld Awakening         When human forces discover the existence of th...   \n",
              "Total Recall                 A factory worker, Douglas Quaid, begins to sus...   \n",
              "Resident Evil: Retribution   Alice fights alongside a resistance movement t...   \n",
              "This Means War               Two top CIA operatives wage an epic battle aga...   \n",
              "Man on a Ledge               As a police psychologist works to talk down an...   \n",
              "Red Dawn                     A group of teenagers look to save their town f...   \n",
              "Wrath of the Titans          Perseus braves the treacherous underworld to r...   \n",
              "The Expendables 2            Mr. Church reunites the Expendables for what s...   \n",
              "\n",
              "                                          director  \\\n",
              "Title                                                \n",
              "The Avengers                           Joss Whedon   \n",
              "The Dark Knight Rises            Christopher Nolan   \n",
              "Battleship                              Peter Berg   \n",
              "Skyfall                                 Sam Mendes   \n",
              "21 Jump Street                           Phil Lord   \n",
              "Looper                                Rian Johnson   \n",
              "The Amazing Spider-Man                   Marc Webb   \n",
              "John Carter                         Andrew Stanton   \n",
              "Dredd                                  Pete Travis   \n",
              "Men in Black 3                    Barry Sonnenfeld   \n",
              "The Bourne Legacy                      Tony Gilroy   \n",
              "Jack Reacher                 Christopher McQuarrie   \n",
              "Snow White and the Huntsman         Rupert Sanders   \n",
              "Underworld Awakening                  Måns Mårlind   \n",
              "Total Recall                           Len Wiseman   \n",
              "Resident Evil: Retribution      Paul W.S. Anderson   \n",
              "This Means War                                 McG   \n",
              "Man on a Ledge                          Asger Leth   \n",
              "Red Dawn                               Dan Bradley   \n",
              "Wrath of the Titans             Jonathan Liebesman   \n",
              "The Expendables 2                       Simon West   \n",
              "\n",
              "                                                                        actors  \\\n",
              "Title                                                                            \n",
              "The Avengers                 Robert Downey Jr., Chris Evans, Scarlett Johan...   \n",
              "The Dark Knight Rises        Christian Bale, Tom Hardy, Anne Hathaway,Gary ...   \n",
              "Battleship                   Alexander Skarsgård, Brooklyn Decker, Liam Nee...   \n",
              "Skyfall                      Daniel Craig, Javier Bardem, Naomie Harris, Ju...   \n",
              "21 Jump Street                Jonah Hill, Channing Tatum, Ice Cube,Brie Larson   \n",
              "Looper                       Joseph Gordon-Levitt, Bruce Willis, Emily Blun...   \n",
              "The Amazing Spider-Man       Andrew Garfield, Emma Stone, Rhys Ifans, Irrfa...   \n",
              "John Carter                  Taylor Kitsch, Lynn Collins, Willem Dafoe,Sama...   \n",
              "Dredd                        Karl Urban, Olivia Thirlby, Lena Headey, Rache...   \n",
              "Men in Black 3               Will Smith, Tommy Lee Jones, Josh Brolin,Jemai...   \n",
              "The Bourne Legacy            Jeremy Renner, Rachel Weisz, Edward Norton, Sc...   \n",
              "Jack Reacher                 Tom Cruise, Rosamund Pike, Richard Jenkins, We...   \n",
              "Snow White and the Huntsman  Kristen Stewart, Chris Hemsworth, Charlize The...   \n",
              "Underworld Awakening         Kate Beckinsale, Michael Ealy, India Eisley, S...   \n",
              "Total Recall                 Colin Farrell, Bokeem Woodbine, Bryan Cranston...   \n",
              "Resident Evil: Retribution   Milla Jovovich, Sienna Guillory, Michelle Rodr...   \n",
              "This Means War               Reese Witherspoon, Chris Pine, Tom Hardy, Til ...   \n",
              "Man on a Ledge               Sam Worthington, Elizabeth Banks, Jamie Bell, ...   \n",
              "Red Dawn                     Chris Hemsworth, Isabel Lucas, Josh Hutcherson...   \n",
              "Wrath of the Titans          Sam Worthington, Liam Neeson, Rosamund Pike, R...   \n",
              "The Expendables 2            Sylvester Stallone, Liam Hemsworth, Randy Cout...   \n",
              "\n",
              "                             year  runtime  rating    votes  revenue_millions  \\\n",
              "Title                                                                           \n",
              "The Avengers                 2012      143     8.1  1045588            623.28   \n",
              "The Dark Knight Rises        2012      164     8.5  1222645            448.13   \n",
              "Battleship                   2012      131     5.8   210349             65.17   \n",
              "Skyfall                      2012      143     7.8   547386            304.36   \n",
              "21 Jump Street               2012      110     7.2   432046            138.45   \n",
              "Looper                       2012      119     7.4   452369             66.47   \n",
              "The Amazing Spider-Man       2012      136     7.0   474320            262.03   \n",
              "John Carter                  2012      132     6.6   220667             73.06   \n",
              "Dredd                        2012       95     7.1   213764             13.40   \n",
              "Men in Black 3               2012      106     6.8   278379            179.02   \n",
              "The Bourne Legacy            2012      135     6.7   245374            113.17   \n",
              "Jack Reacher                 2012      130     7.0   250811             58.68   \n",
              "Snow White and the Huntsman  2012      127     6.1   239772            155.11   \n",
              "Underworld Awakening         2012       88     6.4   127157             62.32   \n",
              "Total Recall                 2012      118     6.3   210965             58.88   \n",
              "Resident Evil: Retribution   2012       96     5.4   114144             42.35   \n",
              "This Means War               2012      103     6.3   154400             54.76   \n",
              "Man on a Ledge               2012      102     6.6   129252             18.60   \n",
              "Red Dawn                     2012       93     5.4    64584             44.80   \n",
              "Wrath of the Titans          2012       99     5.8   159230             83.64   \n",
              "The Expendables 2            2012      103     6.6   257395             85.02   \n",
              "\n",
              "                             metascore  \n",
              "Title                                   \n",
              "The Avengers                      69.0  \n",
              "The Dark Knight Rises             78.0  \n",
              "Battleship                        41.0  \n",
              "Skyfall                           81.0  \n",
              "21 Jump Street                    69.0  \n",
              "Looper                            84.0  \n",
              "The Amazing Spider-Man            66.0  \n",
              "John Carter                       51.0  \n",
              "Dredd                             59.0  \n",
              "Men in Black 3                    58.0  \n",
              "The Bourne Legacy                 61.0  \n",
              "Jack Reacher                      50.0  \n",
              "Snow White and the Huntsman       57.0  \n",
              "Underworld Awakening              39.0  \n",
              "Total Recall                      43.0  \n",
              "Resident Evil: Retribution        39.0  \n",
              "This Means War                    31.0  \n",
              "Man on a Ledge                    40.0  \n",
              "Red Dawn                          31.0  \n",
              "Wrath of the Titans               37.0  \n",
              "The Expendables 2                 51.0  "
            ]
          },
          "execution_count": 85,
          "metadata": {},
          "output_type": "execute_result"
        }
      ],
      "source": [
        "year_mask = df['year'] == 2012\n",
        "genre_mask = df['genre'].str.contains('Action')\n",
        "df[(year_mask) & (genre_mask)]"
      ]
    },
    {
      "cell_type": "markdown",
      "metadata": {
        "id": "sgHD1pyf34Xr"
      },
      "source": [
        "# <b>Practice Questions<b>"
      ]
    },
    {
      "cell_type": "markdown",
      "metadata": {},
      "source": [
        "Out of all the movies with a rating of at least 8.5, what is the median revenue?"
      ]
    },
    {
      "cell_type": "code",
      "execution_count": 98,
      "metadata": {},
      "outputs": [
        {
          "data": {
            "text/plain": [
              "np.float64(100.58500000000001)"
            ]
          },
          "execution_count": 98,
          "metadata": {},
          "output_type": "execute_result"
        }
      ],
      "source": [
        "# Answer here:\n",
        "df[df['Rating'] > 8.5]['Revenue (Millions)'].median()\n"
      ]
    },
    {
      "cell_type": "markdown",
      "metadata": {},
      "source": [
        "How many movies are directed by M. Night Shyamalan?"
      ]
    },
    {
      "cell_type": "code",
      "execution_count": 108,
      "metadata": {},
      "outputs": [
        {
          "data": {
            "text/plain": [
              "(6, 11)"
            ]
          },
          "execution_count": 108,
          "metadata": {},
          "output_type": "execute_result"
        }
      ],
      "source": [
        "# Answer here:\n",
        "mask = df['Director'] == \"M. Night Shyamalan\"\n",
        "df[mask].shape"
      ]
    },
    {
      "cell_type": "markdown",
      "metadata": {
        "id": "8K62M2xx34Xx"
      },
      "source": [
        "## Wrapping up\n",
        "\n",
        "Exploring, cleaning, transforming, and visualization data with pandas in Python is an essential skill in data science. Just cleaning wrangling data is 80% of your job as a Data Scientist. After a few projects and some practice, you should be very comfortable with most of the basics.\n",
        "\n",
        "To keep improving, view the [extensive tutorials](https://pandas.pydata.org/pandas-docs/stable/tutorials.html) offered by the official pandas docs, follow along with a few [Kaggle kernels](https://www.kaggle.com/kernels), and keep working on your own projects!"
      ]
    }
  ],
  "metadata": {
    "colab": {
      "collapsed_sections": [
        "Hwg_j_em34Xn",
        "gI-c4tVC34Xn",
        "DHfq1ZOK34Xo",
        "OfYy46vY34Xp",
        "rkHEwsIi34Xp",
        "SrEcZ79y34Xq",
        "dmaULP4834Xq",
        "xA8M0JP534Xs",
        "1SvobN-z34Xs",
        "eWiilPPv34Xs",
        "k3s2W-0T34Xt",
        "zxXeJsM834Xt",
        "bh_AqLCq34Xu",
        "WuYVTWTk34Xu",
        "fzE0nUjM34Xu",
        "MGPCGQdi34Xv"
      ],
      "provenance": []
    },
    "kernelspec": {
      "display_name": "Python 3",
      "language": "python",
      "name": "python3"
    },
    "language_info": {
      "codemirror_mode": {
        "name": "ipython",
        "version": 3
      },
      "file_extension": ".py",
      "mimetype": "text/x-python",
      "name": "python",
      "nbconvert_exporter": "python",
      "pygments_lexer": "ipython3",
      "version": "3.11.9"
    }
  },
  "nbformat": 4,
  "nbformat_minor": 0
}
